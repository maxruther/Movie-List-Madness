{
 "cells": [
  {
   "cell_type": "markdown",
   "id": "954bec43",
   "metadata": {},
   "source": [
    "# Fixing Siskel Showtime Strings\n",
    "\n",
    "## Converting from Local (CDT) to UTC Strings"
   ]
  },
  {
   "cell_type": "code",
   "execution_count": 1,
   "id": "e1a7566c",
   "metadata": {},
   "outputs": [],
   "source": [
    "import pandas as pd"
   ]
  },
  {
   "cell_type": "code",
   "execution_count": 3,
   "id": "e8e5c674",
   "metadata": {},
   "outputs": [
    {
     "name": "stderr",
     "output_type": "stream",
     "text": [
      "<>:1: SyntaxWarning: invalid escape sequence '\\.'\n",
      "<>:1: SyntaxWarning: invalid escape sequence '\\.'\n",
      "C:\\Users\\maxru\\AppData\\Local\\Temp\\ipykernel_28084\\3464145563.py:1: SyntaxWarning: invalid escape sequence '\\.'\n",
      "  sisk_df = pd.read_pickle('..\\..\\data\\pkl\\siskel\\siskel_showtimes_pre_utc_str_fix.pkl')\n"
     ]
    },
    {
     "data": {
      "text/html": [
       "<div>\n",
       "<style scoped>\n",
       "    .dataframe tbody tr th:only-of-type {\n",
       "        vertical-align: middle;\n",
       "    }\n",
       "\n",
       "    .dataframe tbody tr th {\n",
       "        vertical-align: top;\n",
       "    }\n",
       "\n",
       "    .dataframe thead th {\n",
       "        text-align: right;\n",
       "    }\n",
       "</style>\n",
       "<table border=\"1\" class=\"dataframe\">\n",
       "  <thead>\n",
       "    <tr style=\"text-align: right;\">\n",
       "      <th></th>\n",
       "      <th>Title</th>\n",
       "      <th>Year</th>\n",
       "      <th>Director</th>\n",
       "      <th>Showtime</th>\n",
       "    </tr>\n",
       "  </thead>\n",
       "  <tbody>\n",
       "    <tr>\n",
       "      <th>0</th>\n",
       "      <td>GRAND TOUR</td>\n",
       "      <td>2024</td>\n",
       "      <td>Miguel Gomes</td>\n",
       "      <td>2025-04-18T17:45:00-05:00</td>\n",
       "    </tr>\n",
       "    <tr>\n",
       "      <th>1</th>\n",
       "      <td>KILLER OF SHEEP</td>\n",
       "      <td>1978</td>\n",
       "      <td>Charles Burnett</td>\n",
       "      <td>2025-04-18T18:00:00-05:00</td>\n",
       "    </tr>\n",
       "    <tr>\n",
       "      <th>2</th>\n",
       "      <td>A FIDAI FILM</td>\n",
       "      <td>2024</td>\n",
       "      <td>Kamal Aljafari</td>\n",
       "      <td>2025-04-18T20:00:00-05:00</td>\n",
       "    </tr>\n",
       "    <tr>\n",
       "      <th>3</th>\n",
       "      <td>KILLER OF SHEEP</td>\n",
       "      <td>1978</td>\n",
       "      <td>Charles Burnett</td>\n",
       "      <td>2025-04-18T20:30:00-05:00</td>\n",
       "    </tr>\n",
       "    <tr>\n",
       "      <th>4</th>\n",
       "      <td>KILLER OF SHEEP</td>\n",
       "      <td>1978</td>\n",
       "      <td>Charles Burnett</td>\n",
       "      <td>2025-04-19T12:30:00-05:00</td>\n",
       "    </tr>\n",
       "  </tbody>\n",
       "</table>\n",
       "</div>"
      ],
      "text/plain": [
       "             Title  Year         Director                   Showtime\n",
       "0       GRAND TOUR  2024     Miguel Gomes  2025-04-18T17:45:00-05:00\n",
       "1  KILLER OF SHEEP  1978  Charles Burnett  2025-04-18T18:00:00-05:00\n",
       "2     A FIDAI FILM  2024   Kamal Aljafari  2025-04-18T20:00:00-05:00\n",
       "3  KILLER OF SHEEP  1978  Charles Burnett  2025-04-18T20:30:00-05:00\n",
       "4  KILLER OF SHEEP  1978  Charles Burnett  2025-04-19T12:30:00-05:00"
      ]
     },
     "execution_count": 3,
     "metadata": {},
     "output_type": "execute_result"
    }
   ],
   "source": [
    "sisk_df = pd.read_pickle('..\\..\\data\\pkl\\siskel\\siskel_showtimes_pre_utc_str_fix.pkl')\n",
    "sisk_df.head()"
   ]
  },
  {
   "cell_type": "code",
   "execution_count": 4,
   "id": "9b02b2f0",
   "metadata": {},
   "outputs": [
    {
     "data": {
      "text/plain": [
       "0      2025-04-18T22:45:00+00:00\n",
       "1      2025-04-18T23:00:00+00:00\n",
       "2      2025-04-19T01:00:00+00:00\n",
       "3      2025-04-19T01:30:00+00:00\n",
       "4      2025-04-19T17:30:00+00:00\n",
       "                 ...            \n",
       "255    2025-06-28T19:15:00+00:00\n",
       "256    2025-06-29T17:00:00+00:00\n",
       "257    2025-06-29T19:15:00+00:00\n",
       "258    2025-07-01T01:30:00+00:00\n",
       "259    2025-06-30T23:00:00+00:00\n",
       "Name: Showtime, Length: 260, dtype: object"
      ]
     },
     "execution_count": 4,
     "metadata": {},
     "output_type": "execute_result"
    }
   ],
   "source": [
    "sisk_df['Showtime'] = pd.to_datetime(sisk_df['Showtime']).dt.tz_convert('UTC').apply(lambda dt: dt.isoformat())\n",
    "sisk_df['Showtime']"
   ]
  },
  {
   "cell_type": "code",
   "execution_count": 5,
   "id": "9fde3f0d",
   "metadata": {},
   "outputs": [
    {
     "name": "stderr",
     "output_type": "stream",
     "text": [
      "<>:1: SyntaxWarning: invalid escape sequence '\\.'\n",
      "<>:2: SyntaxWarning: invalid escape sequence '\\.'\n",
      "<>:1: SyntaxWarning: invalid escape sequence '\\.'\n",
      "<>:2: SyntaxWarning: invalid escape sequence '\\.'\n",
      "C:\\Users\\maxru\\AppData\\Local\\Temp\\ipykernel_28084\\3167738758.py:1: SyntaxWarning: invalid escape sequence '\\.'\n",
      "  sisk_df.to_csv('..\\..\\data\\csv\\siskel\\siskel_showtimes.csv')\n",
      "C:\\Users\\maxru\\AppData\\Local\\Temp\\ipykernel_28084\\3167738758.py:2: SyntaxWarning: invalid escape sequence '\\.'\n",
      "  sisk_df.to_pickle('..\\..\\data\\pkl\\siskel\\siskel_showtimes.pkl')\n"
     ]
    }
   ],
   "source": [
    "sisk_df.to_csv('..\\..\\data\\csv\\siskel\\siskel_showtimes.csv')\n",
    "sisk_df.to_pickle('..\\..\\data\\pkl\\siskel\\siskel_showtimes.pkl')"
   ]
  }
 ],
 "metadata": {
  "kernelspec": {
   "display_name": "Python 3",
   "language": "python",
   "name": "python3"
  },
  "language_info": {
   "codemirror_mode": {
    "name": "ipython",
    "version": 3
   },
   "file_extension": ".py",
   "mimetype": "text/x-python",
   "name": "python",
   "nbconvert_exporter": "python",
   "pygments_lexer": "ipython3",
   "version": "3.12.3"
  }
 },
 "nbformat": 4,
 "nbformat_minor": 5
}
