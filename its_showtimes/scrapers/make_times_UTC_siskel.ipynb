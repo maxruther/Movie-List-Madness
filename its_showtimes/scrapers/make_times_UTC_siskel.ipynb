{
 "cells": [
  {
   "cell_type": "code",
   "execution_count": 1,
   "id": "141c8bf9",
   "metadata": {},
   "outputs": [],
   "source": [
    "import pandas as pd\n",
    "\n",
    "from datetime import datetime\n",
    "import pytz"
   ]
  },
  {
   "cell_type": "code",
   "execution_count": 2,
   "id": "89c8c9e0",
   "metadata": {},
   "outputs": [
    {
     "name": "stderr",
     "output_type": "stream",
     "text": [
      "<>:1: SyntaxWarning: invalid escape sequence '\\.'\n",
      "<>:1: SyntaxWarning: invalid escape sequence '\\.'\n",
      "C:\\Users\\maxru\\AppData\\Local\\Temp\\ipykernel_5732\\3282253285.py:1: SyntaxWarning: invalid escape sequence '\\.'\n",
      "  st_df = pd.read_pickle('..\\..\\data\\pkl\\siskel\\siskel_showtimes.pkl')\n"
     ]
    },
    {
     "data": {
      "text/html": [
       "<div>\n",
       "<style scoped>\n",
       "    .dataframe tbody tr th:only-of-type {\n",
       "        vertical-align: middle;\n",
       "    }\n",
       "\n",
       "    .dataframe tbody tr th {\n",
       "        vertical-align: top;\n",
       "    }\n",
       "\n",
       "    .dataframe thead th {\n",
       "        text-align: right;\n",
       "    }\n",
       "</style>\n",
       "<table border=\"1\" class=\"dataframe\">\n",
       "  <thead>\n",
       "    <tr style=\"text-align: right;\">\n",
       "      <th></th>\n",
       "      <th>Title</th>\n",
       "      <th>Year</th>\n",
       "      <th>Director</th>\n",
       "      <th>Showtime</th>\n",
       "      <th>Showtime_Date</th>\n",
       "      <th>Showtime_Time</th>\n",
       "    </tr>\n",
       "  </thead>\n",
       "  <tbody>\n",
       "    <tr>\n",
       "      <th>0</th>\n",
       "      <td>GRAND TOUR</td>\n",
       "      <td>2024</td>\n",
       "      <td>Miguel Gomes</td>\n",
       "      <td>2025-04-18 17:45:00-05:00</td>\n",
       "      <td>2025-04-18</td>\n",
       "      <td>17:45:00</td>\n",
       "    </tr>\n",
       "    <tr>\n",
       "      <th>1</th>\n",
       "      <td>KILLER OF SHEEP</td>\n",
       "      <td>1978</td>\n",
       "      <td>Charles Burnett</td>\n",
       "      <td>2025-04-18 18:00:00-05:00</td>\n",
       "      <td>2025-04-18</td>\n",
       "      <td>18:00:00</td>\n",
       "    </tr>\n",
       "    <tr>\n",
       "      <th>2</th>\n",
       "      <td>A FIDAI FILM</td>\n",
       "      <td>2024</td>\n",
       "      <td>Kamal Aljafari</td>\n",
       "      <td>2025-04-18 20:00:00-05:00</td>\n",
       "      <td>2025-04-18</td>\n",
       "      <td>20:00:00</td>\n",
       "    </tr>\n",
       "    <tr>\n",
       "      <th>3</th>\n",
       "      <td>KILLER OF SHEEP</td>\n",
       "      <td>1978</td>\n",
       "      <td>Charles Burnett</td>\n",
       "      <td>2025-04-18 20:30:00-05:00</td>\n",
       "      <td>2025-04-18</td>\n",
       "      <td>20:30:00</td>\n",
       "    </tr>\n",
       "    <tr>\n",
       "      <th>4</th>\n",
       "      <td>KILLER OF SHEEP</td>\n",
       "      <td>1978</td>\n",
       "      <td>Charles Burnett</td>\n",
       "      <td>2025-04-19 12:30:00-05:00</td>\n",
       "      <td>2025-04-19</td>\n",
       "      <td>12:30:00</td>\n",
       "    </tr>\n",
       "  </tbody>\n",
       "</table>\n",
       "</div>"
      ],
      "text/plain": [
       "             Title  Year         Director                  Showtime  \\\n",
       "0       GRAND TOUR  2024     Miguel Gomes 2025-04-18 17:45:00-05:00   \n",
       "1  KILLER OF SHEEP  1978  Charles Burnett 2025-04-18 18:00:00-05:00   \n",
       "2     A FIDAI FILM  2024   Kamal Aljafari 2025-04-18 20:00:00-05:00   \n",
       "3  KILLER OF SHEEP  1978  Charles Burnett 2025-04-18 20:30:00-05:00   \n",
       "4  KILLER OF SHEEP  1978  Charles Burnett 2025-04-19 12:30:00-05:00   \n",
       "\n",
       "  Showtime_Date Showtime_Time  \n",
       "0    2025-04-18      17:45:00  \n",
       "1    2025-04-18      18:00:00  \n",
       "2    2025-04-18      20:00:00  \n",
       "3    2025-04-18      20:30:00  \n",
       "4    2025-04-19      12:30:00  "
      ]
     },
     "execution_count": 2,
     "metadata": {},
     "output_type": "execute_result"
    }
   ],
   "source": [
    "st_df = pd.read_pickle('..\\..\\data\\pkl\\siskel\\siskel_showtimes.pkl')\n",
    "# st_df = pd.read_pickle('..\\..\\data\\pkl\\siskel\\siskel_showtimes_non_utc.pkl')\n",
    "st_df.head()"
   ]
  },
  {
   "cell_type": "code",
   "execution_count": 3,
   "id": "39dfdad2",
   "metadata": {},
   "outputs": [
    {
     "name": "stderr",
     "output_type": "stream",
     "text": [
      "<>:1: SyntaxWarning: invalid escape sequence '\\.'\n",
      "<>:2: SyntaxWarning: invalid escape sequence '\\.'\n",
      "<>:1: SyntaxWarning: invalid escape sequence '\\.'\n",
      "<>:2: SyntaxWarning: invalid escape sequence '\\.'\n",
      "C:\\Users\\maxru\\AppData\\Local\\Temp\\ipykernel_5732\\36875405.py:1: SyntaxWarning: invalid escape sequence '\\.'\n",
      "  st_df.to_pickle('..\\..\\data\\pkl\\siskel\\siskel_showtimes_non_utc.pkl')\n",
      "C:\\Users\\maxru\\AppData\\Local\\Temp\\ipykernel_5732\\36875405.py:2: SyntaxWarning: invalid escape sequence '\\.'\n",
      "  st_df.to_csv('..\\..\\data\\csv\\siskel\\siskel_showtimes_non_utc.csv')\n"
     ]
    }
   ],
   "source": [
    "st_df.to_pickle('..\\..\\data\\pkl\\siskel\\siskel_showtimes_non_utc.pkl')\n",
    "st_df.to_csv('..\\..\\data\\csv\\siskel\\siskel_showtimes_non_utc.csv')"
   ]
  },
  {
   "cell_type": "code",
   "execution_count": 5,
   "id": "9e8070eb",
   "metadata": {},
   "outputs": [],
   "source": [
    "central = pytz.timezone('America/Chicago')\n",
    "utc = pytz.utc\n",
    "\n",
    "st_df['Showtime'] = pd.to_datetime(st_df['Showtime'])\n",
    "# # Timezone info was already set in the dattime object read in for these\n",
    "# # Siskel showtimes, so this next line (copied from the musicbox script\n",
    "# # for this process, along with everything else here) caused an error.\n",
    "# st_df['Showtime'] = st_df['Showtime'].apply(lambda dt: central.localize(dt).astimezone(utc))\n",
    "st_df['Showtime'] = st_df['Showtime'].apply(lambda dt: dt.isoformat())"
   ]
  },
  {
   "cell_type": "code",
   "execution_count": 6,
   "id": "73c9915a",
   "metadata": {},
   "outputs": [
    {
     "data": {
      "text/html": [
       "<div>\n",
       "<style scoped>\n",
       "    .dataframe tbody tr th:only-of-type {\n",
       "        vertical-align: middle;\n",
       "    }\n",
       "\n",
       "    .dataframe tbody tr th {\n",
       "        vertical-align: top;\n",
       "    }\n",
       "\n",
       "    .dataframe thead th {\n",
       "        text-align: right;\n",
       "    }\n",
       "</style>\n",
       "<table border=\"1\" class=\"dataframe\">\n",
       "  <thead>\n",
       "    <tr style=\"text-align: right;\">\n",
       "      <th></th>\n",
       "      <th>Title</th>\n",
       "      <th>Year</th>\n",
       "      <th>Director</th>\n",
       "      <th>Showtime</th>\n",
       "      <th>Showtime_Date</th>\n",
       "      <th>Showtime_Time</th>\n",
       "    </tr>\n",
       "  </thead>\n",
       "  <tbody>\n",
       "    <tr>\n",
       "      <th>0</th>\n",
       "      <td>GRAND TOUR</td>\n",
       "      <td>2024</td>\n",
       "      <td>Miguel Gomes</td>\n",
       "      <td>2025-04-18T17:45:00-05:00</td>\n",
       "      <td>2025-04-18</td>\n",
       "      <td>17:45:00</td>\n",
       "    </tr>\n",
       "    <tr>\n",
       "      <th>1</th>\n",
       "      <td>KILLER OF SHEEP</td>\n",
       "      <td>1978</td>\n",
       "      <td>Charles Burnett</td>\n",
       "      <td>2025-04-18T18:00:00-05:00</td>\n",
       "      <td>2025-04-18</td>\n",
       "      <td>18:00:00</td>\n",
       "    </tr>\n",
       "    <tr>\n",
       "      <th>2</th>\n",
       "      <td>A FIDAI FILM</td>\n",
       "      <td>2024</td>\n",
       "      <td>Kamal Aljafari</td>\n",
       "      <td>2025-04-18T20:00:00-05:00</td>\n",
       "      <td>2025-04-18</td>\n",
       "      <td>20:00:00</td>\n",
       "    </tr>\n",
       "    <tr>\n",
       "      <th>3</th>\n",
       "      <td>KILLER OF SHEEP</td>\n",
       "      <td>1978</td>\n",
       "      <td>Charles Burnett</td>\n",
       "      <td>2025-04-18T20:30:00-05:00</td>\n",
       "      <td>2025-04-18</td>\n",
       "      <td>20:30:00</td>\n",
       "    </tr>\n",
       "    <tr>\n",
       "      <th>4</th>\n",
       "      <td>KILLER OF SHEEP</td>\n",
       "      <td>1978</td>\n",
       "      <td>Charles Burnett</td>\n",
       "      <td>2025-04-19T12:30:00-05:00</td>\n",
       "      <td>2025-04-19</td>\n",
       "      <td>12:30:00</td>\n",
       "    </tr>\n",
       "  </tbody>\n",
       "</table>\n",
       "</div>"
      ],
      "text/plain": [
       "             Title  Year         Director                   Showtime  \\\n",
       "0       GRAND TOUR  2024     Miguel Gomes  2025-04-18T17:45:00-05:00   \n",
       "1  KILLER OF SHEEP  1978  Charles Burnett  2025-04-18T18:00:00-05:00   \n",
       "2     A FIDAI FILM  2024   Kamal Aljafari  2025-04-18T20:00:00-05:00   \n",
       "3  KILLER OF SHEEP  1978  Charles Burnett  2025-04-18T20:30:00-05:00   \n",
       "4  KILLER OF SHEEP  1978  Charles Burnett  2025-04-19T12:30:00-05:00   \n",
       "\n",
       "  Showtime_Date Showtime_Time  \n",
       "0    2025-04-18      17:45:00  \n",
       "1    2025-04-18      18:00:00  \n",
       "2    2025-04-18      20:00:00  \n",
       "3    2025-04-18      20:30:00  \n",
       "4    2025-04-19      12:30:00  "
      ]
     },
     "execution_count": 6,
     "metadata": {},
     "output_type": "execute_result"
    }
   ],
   "source": [
    "st_df.head()"
   ]
  },
  {
   "cell_type": "code",
   "execution_count": null,
   "id": "becf011f",
   "metadata": {},
   "outputs": [],
   "source": [
    "# Getting rid of the unnecessary 'Date' and 'Time' fields that derived\n",
    "# from the 'Showtime' field.\n",
    "st_df = st_df.drop(columns=['Showtime_Date', 'Showtime_Time'])"
   ]
  },
  {
   "cell_type": "code",
   "execution_count": 8,
   "id": "2d395104",
   "metadata": {},
   "outputs": [
    {
     "name": "stderr",
     "output_type": "stream",
     "text": [
      "<>:1: SyntaxWarning: invalid escape sequence '\\.'\n",
      "<>:2: SyntaxWarning: invalid escape sequence '\\.'\n",
      "<>:1: SyntaxWarning: invalid escape sequence '\\.'\n",
      "<>:2: SyntaxWarning: invalid escape sequence '\\.'\n",
      "C:\\Users\\maxru\\AppData\\Local\\Temp\\ipykernel_5732\\3248725844.py:1: SyntaxWarning: invalid escape sequence '\\.'\n",
      "  st_df.to_pickle('..\\..\\data\\pkl\\siskel\\siskel_showtimes.pkl')\n",
      "C:\\Users\\maxru\\AppData\\Local\\Temp\\ipykernel_5732\\3248725844.py:2: SyntaxWarning: invalid escape sequence '\\.'\n",
      "  st_df.to_csv('..\\..\\data\\csv\\siskel\\siskel_showtimes.csv', index=False)\n"
     ]
    }
   ],
   "source": [
    "st_df.to_pickle('..\\..\\data\\pkl\\siskel\\siskel_showtimes.pkl')\n",
    "st_df.to_csv('..\\..\\data\\csv\\siskel\\siskel_showtimes.csv', index=False)"
   ]
  },
  {
   "cell_type": "code",
   "execution_count": null,
   "id": "0fa3385c",
   "metadata": {},
   "outputs": [],
   "source": []
  }
 ],
 "metadata": {
  "kernelspec": {
   "display_name": "Python 3",
   "language": "python",
   "name": "python3"
  },
  "language_info": {
   "codemirror_mode": {
    "name": "ipython",
    "version": 3
   },
   "file_extension": ".py",
   "mimetype": "text/x-python",
   "name": "python",
   "nbconvert_exporter": "python",
   "pygments_lexer": "ipython3",
   "version": "3.12.3"
  }
 },
 "nbformat": 4,
 "nbformat_minor": 5
}
