{
 "cells": [
  {
   "cell_type": "code",
   "execution_count": 33,
   "id": "141c8bf9",
   "metadata": {},
   "outputs": [],
   "source": [
    "import pandas as pd\n",
    "\n",
    "from datetime import datetime\n",
    "import pytz"
   ]
  },
  {
   "cell_type": "code",
   "execution_count": 34,
   "id": "89c8c9e0",
   "metadata": {},
   "outputs": [
    {
     "name": "stderr",
     "output_type": "stream",
     "text": [
      "<>:2: SyntaxWarning: invalid escape sequence '\\.'\n",
      "<>:2: SyntaxWarning: invalid escape sequence '\\.'\n",
      "C:\\Users\\maxru\\AppData\\Local\\Temp\\ipykernel_25336\\2125578364.py:2: SyntaxWarning: invalid escape sequence '\\.'\n",
      "  st_df = pd.read_pickle('..\\..\\data\\pkl\\musicbox\\musicbox_showtimes_non_utc.pkl')\n"
     ]
    },
    {
     "data": {
      "text/html": [
       "<div>\n",
       "<style scoped>\n",
       "    .dataframe tbody tr th:only-of-type {\n",
       "        vertical-align: middle;\n",
       "    }\n",
       "\n",
       "    .dataframe tbody tr th {\n",
       "        vertical-align: top;\n",
       "    }\n",
       "\n",
       "    .dataframe thead th {\n",
       "        text-align: right;\n",
       "    }\n",
       "</style>\n",
       "<table border=\"1\" class=\"dataframe\">\n",
       "  <thead>\n",
       "    <tr style=\"text-align: right;\">\n",
       "      <th></th>\n",
       "      <th>Title</th>\n",
       "      <th>Year</th>\n",
       "      <th>Director</th>\n",
       "      <th>Showtime</th>\n",
       "      <th>Showtime_Date</th>\n",
       "      <th>Showtime_Time</th>\n",
       "    </tr>\n",
       "  </thead>\n",
       "  <tbody>\n",
       "    <tr>\n",
       "      <th>0</th>\n",
       "      <td>DAVID LYNCH: THE ART LIFE</td>\n",
       "      <td>2016</td>\n",
       "      <td>Jon Nguyen, Rick Barnes</td>\n",
       "      <td>2025-04-18 13:00:00</td>\n",
       "      <td>2025-04-18</td>\n",
       "      <td>13:00:00</td>\n",
       "    </tr>\n",
       "    <tr>\n",
       "      <th>1</th>\n",
       "      <td>THE BALLAD OF WALLIS ISLAND</td>\n",
       "      <td>2025</td>\n",
       "      <td>James Griffiths</td>\n",
       "      <td>2025-04-18 14:00:00</td>\n",
       "      <td>2025-04-18</td>\n",
       "      <td>14:00:00</td>\n",
       "    </tr>\n",
       "    <tr>\n",
       "      <th>2</th>\n",
       "      <td>THE BALLAD OF WALLIS ISLAND</td>\n",
       "      <td>2025</td>\n",
       "      <td>James Griffiths</td>\n",
       "      <td>2025-04-18 18:45:00</td>\n",
       "      <td>2025-04-18</td>\n",
       "      <td>18:45:00</td>\n",
       "    </tr>\n",
       "    <tr>\n",
       "      <th>3</th>\n",
       "      <td>SUNSET BOULEVARD</td>\n",
       "      <td>1950</td>\n",
       "      <td>Billy Wilder</td>\n",
       "      <td>2025-04-18 15:00:00</td>\n",
       "      <td>2025-04-18</td>\n",
       "      <td>15:00:00</td>\n",
       "    </tr>\n",
       "    <tr>\n",
       "      <th>4</th>\n",
       "      <td>SECRET MALL APARTMENT</td>\n",
       "      <td>2024</td>\n",
       "      <td>Jeremy Workman</td>\n",
       "      <td>2025-04-18 16:15:00</td>\n",
       "      <td>2025-04-18</td>\n",
       "      <td>16:15:00</td>\n",
       "    </tr>\n",
       "  </tbody>\n",
       "</table>\n",
       "</div>"
      ],
      "text/plain": [
       "                         Title  Year                 Director  \\\n",
       "0    DAVID LYNCH: THE ART LIFE  2016  Jon Nguyen, Rick Barnes   \n",
       "1  THE BALLAD OF WALLIS ISLAND  2025          James Griffiths   \n",
       "2  THE BALLAD OF WALLIS ISLAND  2025          James Griffiths   \n",
       "3             SUNSET BOULEVARD  1950             Billy Wilder   \n",
       "4        SECRET MALL APARTMENT  2024           Jeremy Workman   \n",
       "\n",
       "             Showtime Showtime_Date Showtime_Time  \n",
       "0 2025-04-18 13:00:00    2025-04-18      13:00:00  \n",
       "1 2025-04-18 14:00:00    2025-04-18      14:00:00  \n",
       "2 2025-04-18 18:45:00    2025-04-18      18:45:00  \n",
       "3 2025-04-18 15:00:00    2025-04-18      15:00:00  \n",
       "4 2025-04-18 16:15:00    2025-04-18      16:15:00  "
      ]
     },
     "execution_count": 34,
     "metadata": {},
     "output_type": "execute_result"
    }
   ],
   "source": [
    "# st_df = pd.read_pickle('..\\..\\data\\pkl\\musicbox\\musicbox_showtimes.pkl')\n",
    "st_df = pd.read_pickle('..\\..\\data\\pkl\\musicbox\\musicbox_showtimes_non_utc.pkl')\n",
    "st_df.head()"
   ]
  },
  {
   "cell_type": "code",
   "execution_count": 35,
   "id": "39dfdad2",
   "metadata": {},
   "outputs": [],
   "source": [
    "# st_df.to_pickle('..\\..\\data\\pkl\\musicbox\\musicbox_showtimes_non_utc.pkl')\n",
    "# st_df.to_csv('..\\..\\data\\csv\\musicbox\\musicbox_showtimes_non_utc.csv')"
   ]
  },
  {
   "cell_type": "code",
   "execution_count": 36,
   "id": "9e8070eb",
   "metadata": {},
   "outputs": [],
   "source": [
    "central = pytz.timezone('America/Chicago')\n",
    "utc = pytz.utc\n",
    "\n",
    "st_df['Showtime'] = pd.to_datetime(st_df['Showtime'])\n",
    "st_df['Showtime'] = st_df['Showtime'].apply(lambda dt: central.localize(dt).astimezone(utc))\n",
    "st_df['Showtime'] = st_df['Showtime'].apply(lambda dt: dt.isoformat())"
   ]
  },
  {
   "cell_type": "code",
   "execution_count": 37,
   "id": "73c9915a",
   "metadata": {},
   "outputs": [
    {
     "data": {
      "text/html": [
       "<div>\n",
       "<style scoped>\n",
       "    .dataframe tbody tr th:only-of-type {\n",
       "        vertical-align: middle;\n",
       "    }\n",
       "\n",
       "    .dataframe tbody tr th {\n",
       "        vertical-align: top;\n",
       "    }\n",
       "\n",
       "    .dataframe thead th {\n",
       "        text-align: right;\n",
       "    }\n",
       "</style>\n",
       "<table border=\"1\" class=\"dataframe\">\n",
       "  <thead>\n",
       "    <tr style=\"text-align: right;\">\n",
       "      <th></th>\n",
       "      <th>Title</th>\n",
       "      <th>Year</th>\n",
       "      <th>Director</th>\n",
       "      <th>Showtime</th>\n",
       "      <th>Showtime_Date</th>\n",
       "      <th>Showtime_Time</th>\n",
       "    </tr>\n",
       "  </thead>\n",
       "  <tbody>\n",
       "    <tr>\n",
       "      <th>0</th>\n",
       "      <td>DAVID LYNCH: THE ART LIFE</td>\n",
       "      <td>2016</td>\n",
       "      <td>Jon Nguyen, Rick Barnes</td>\n",
       "      <td>2025-04-18T18:00:00+00:00</td>\n",
       "      <td>2025-04-18</td>\n",
       "      <td>13:00:00</td>\n",
       "    </tr>\n",
       "    <tr>\n",
       "      <th>1</th>\n",
       "      <td>THE BALLAD OF WALLIS ISLAND</td>\n",
       "      <td>2025</td>\n",
       "      <td>James Griffiths</td>\n",
       "      <td>2025-04-18T19:00:00+00:00</td>\n",
       "      <td>2025-04-18</td>\n",
       "      <td>14:00:00</td>\n",
       "    </tr>\n",
       "    <tr>\n",
       "      <th>2</th>\n",
       "      <td>THE BALLAD OF WALLIS ISLAND</td>\n",
       "      <td>2025</td>\n",
       "      <td>James Griffiths</td>\n",
       "      <td>2025-04-18T23:45:00+00:00</td>\n",
       "      <td>2025-04-18</td>\n",
       "      <td>18:45:00</td>\n",
       "    </tr>\n",
       "    <tr>\n",
       "      <th>3</th>\n",
       "      <td>SUNSET BOULEVARD</td>\n",
       "      <td>1950</td>\n",
       "      <td>Billy Wilder</td>\n",
       "      <td>2025-04-18T20:00:00+00:00</td>\n",
       "      <td>2025-04-18</td>\n",
       "      <td>15:00:00</td>\n",
       "    </tr>\n",
       "    <tr>\n",
       "      <th>4</th>\n",
       "      <td>SECRET MALL APARTMENT</td>\n",
       "      <td>2024</td>\n",
       "      <td>Jeremy Workman</td>\n",
       "      <td>2025-04-18T21:15:00+00:00</td>\n",
       "      <td>2025-04-18</td>\n",
       "      <td>16:15:00</td>\n",
       "    </tr>\n",
       "  </tbody>\n",
       "</table>\n",
       "</div>"
      ],
      "text/plain": [
       "                         Title  Year                 Director  \\\n",
       "0    DAVID LYNCH: THE ART LIFE  2016  Jon Nguyen, Rick Barnes   \n",
       "1  THE BALLAD OF WALLIS ISLAND  2025          James Griffiths   \n",
       "2  THE BALLAD OF WALLIS ISLAND  2025          James Griffiths   \n",
       "3             SUNSET BOULEVARD  1950             Billy Wilder   \n",
       "4        SECRET MALL APARTMENT  2024           Jeremy Workman   \n",
       "\n",
       "                    Showtime Showtime_Date Showtime_Time  \n",
       "0  2025-04-18T18:00:00+00:00    2025-04-18      13:00:00  \n",
       "1  2025-04-18T19:00:00+00:00    2025-04-18      14:00:00  \n",
       "2  2025-04-18T23:45:00+00:00    2025-04-18      18:45:00  \n",
       "3  2025-04-18T20:00:00+00:00    2025-04-18      15:00:00  \n",
       "4  2025-04-18T21:15:00+00:00    2025-04-18      16:15:00  "
      ]
     },
     "execution_count": 37,
     "metadata": {},
     "output_type": "execute_result"
    }
   ],
   "source": [
    "st_df.head()"
   ]
  },
  {
   "cell_type": "code",
   "execution_count": 38,
   "id": "becf011f",
   "metadata": {},
   "outputs": [],
   "source": [
    "st_df = st_df.drop(columns=['Showtime_Date', 'Showtime_Time'])"
   ]
  },
  {
   "cell_type": "code",
   "execution_count": 39,
   "id": "2d395104",
   "metadata": {},
   "outputs": [
    {
     "name": "stderr",
     "output_type": "stream",
     "text": [
      "<>:1: SyntaxWarning: invalid escape sequence '\\.'\n",
      "<>:2: SyntaxWarning: invalid escape sequence '\\.'\n",
      "<>:1: SyntaxWarning: invalid escape sequence '\\.'\n",
      "<>:2: SyntaxWarning: invalid escape sequence '\\.'\n",
      "C:\\Users\\maxru\\AppData\\Local\\Temp\\ipykernel_25336\\2038260266.py:1: SyntaxWarning: invalid escape sequence '\\.'\n",
      "  st_df.to_pickle('..\\..\\data\\pkl\\musicbox\\musicbox_showtimes.pkl')\n",
      "C:\\Users\\maxru\\AppData\\Local\\Temp\\ipykernel_25336\\2038260266.py:2: SyntaxWarning: invalid escape sequence '\\.'\n",
      "  st_df.to_csv('..\\..\\data\\csv\\musicbox\\musicbox_showtimes.csv', index=False)\n"
     ]
    }
   ],
   "source": [
    "st_df.to_pickle('..\\..\\data\\pkl\\musicbox\\musicbox_showtimes.pkl')\n",
    "st_df.to_csv('..\\..\\data\\csv\\musicbox\\musicbox_showtimes.csv', index=False)"
   ]
  },
  {
   "cell_type": "code",
   "execution_count": null,
   "id": "0fa3385c",
   "metadata": {},
   "outputs": [],
   "source": []
  }
 ],
 "metadata": {
  "kernelspec": {
   "display_name": "Python 3",
   "language": "python",
   "name": "python3"
  },
  "language_info": {
   "codemirror_mode": {
    "name": "ipython",
    "version": 3
   },
   "file_extension": ".py",
   "mimetype": "text/x-python",
   "name": "python",
   "nbconvert_exporter": "python",
   "pygments_lexer": "ipython3",
   "version": "3.12.3"
  }
 },
 "nbformat": 4,
 "nbformat_minor": 5
}
