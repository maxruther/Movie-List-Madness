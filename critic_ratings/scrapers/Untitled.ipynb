{
 "cells": [
  {
   "cell_type": "code",
   "execution_count": 1,
   "id": "7c131bdb-3070-4927-8512-fdf85431f7b0",
   "metadata": {},
   "outputs": [],
   "source": [
    "import pandas as pd\n",
    "import numpy as np\n"
   ]
  },
  {
   "cell_type": "code",
   "execution_count": 3,
   "id": "018822ee-7ead-4089-832f-d9801cb4a664",
   "metadata": {},
   "outputs": [],
   "source": [
    "fr_df = pd.read_csv('../../LB_friends_ratings_df.csv')"
   ]
  },
  {
   "cell_type": "code",
   "execution_count": 5,
   "id": "941b9b2f-3a3b-4c50-97a2-41e19086a548",
   "metadata": {},
   "outputs": [
    {
     "data": {
      "text/html": [
       "<div>\n",
       "<style scoped>\n",
       "    .dataframe tbody tr th:only-of-type {\n",
       "        vertical-align: middle;\n",
       "    }\n",
       "\n",
       "    .dataframe tbody tr th {\n",
       "        vertical-align: top;\n",
       "    }\n",
       "\n",
       "    .dataframe thead th {\n",
       "        text-align: right;\n",
       "    }\n",
       "</style>\n",
       "<table border=\"1\" class=\"dataframe\">\n",
       "  <thead>\n",
       "    <tr style=\"text-align: right;\">\n",
       "      <th></th>\n",
       "      <th>Film</th>\n",
       "      <th>link</th>\n",
       "      <th>risesinthewest</th>\n",
       "      <th>Josh Larsen</th>\n",
       "      <th>crhoesing</th>\n",
       "      <th>Adam Kempenaar</th>\n",
       "      <th>Nick Davis</th>\n",
       "      <th>jamie loftus</th>\n",
       "      <th>Mitra Jouhari</th>\n",
       "      <th>Maia</th>\n",
       "      <th>ratbathman</th>\n",
       "    </tr>\n",
       "  </thead>\n",
       "  <tbody>\n",
       "    <tr>\n",
       "      <th>5</th>\n",
       "      <td>Do Not Expect Too Much from the End of the Wor...</td>\n",
       "      <td>https://letterboxd.com/film/do-not-expect-too-...</td>\n",
       "      <td>NaN</td>\n",
       "      <td>4.0</td>\n",
       "      <td>NaN</td>\n",
       "      <td>NaN</td>\n",
       "      <td>3.5</td>\n",
       "      <td>NaN</td>\n",
       "      <td>NaN</td>\n",
       "      <td>NaN</td>\n",
       "      <td>NaN</td>\n",
       "    </tr>\n",
       "    <tr>\n",
       "      <th>6</th>\n",
       "      <td>Paris, Texas (1984)</td>\n",
       "      <td>https://letterboxd.com/film/paris-texas/</td>\n",
       "      <td>NaN</td>\n",
       "      <td>4.5</td>\n",
       "      <td>NaN</td>\n",
       "      <td>5.0</td>\n",
       "      <td>4.0</td>\n",
       "      <td>NaN</td>\n",
       "      <td>NaN</td>\n",
       "      <td>NaN</td>\n",
       "      <td>NaN</td>\n",
       "    </tr>\n",
       "    <tr>\n",
       "      <th>7</th>\n",
       "      <td>Mad God (2021)</td>\n",
       "      <td>https://letterboxd.com/film/mad-god/</td>\n",
       "      <td>5.0</td>\n",
       "      <td>3.5</td>\n",
       "      <td>NaN</td>\n",
       "      <td>NaN</td>\n",
       "      <td>NaN</td>\n",
       "      <td>NaN</td>\n",
       "      <td>NaN</td>\n",
       "      <td>NaN</td>\n",
       "      <td>NaN</td>\n",
       "    </tr>\n",
       "    <tr>\n",
       "      <th>8</th>\n",
       "      <td>The Substance (2024)</td>\n",
       "      <td>https://letterboxd.com/film/the-substance/</td>\n",
       "      <td>5.0</td>\n",
       "      <td>3.5</td>\n",
       "      <td>NaN</td>\n",
       "      <td>NaN</td>\n",
       "      <td>3.0</td>\n",
       "      <td>5.0</td>\n",
       "      <td>5.0</td>\n",
       "      <td>3.5</td>\n",
       "      <td>4.5</td>\n",
       "    </tr>\n",
       "    <tr>\n",
       "      <th>9</th>\n",
       "      <td>Howl's Moving Castle (2004)</td>\n",
       "      <td>https://letterboxd.com/film/howls-moving-castle/</td>\n",
       "      <td>NaN</td>\n",
       "      <td>NaN</td>\n",
       "      <td>4.5</td>\n",
       "      <td>3.0</td>\n",
       "      <td>NaN</td>\n",
       "      <td>NaN</td>\n",
       "      <td>5.0</td>\n",
       "      <td>NaN</td>\n",
       "      <td>NaN</td>\n",
       "    </tr>\n",
       "  </tbody>\n",
       "</table>\n",
       "</div>"
      ],
      "text/plain": [
       "                                                Film  \\\n",
       "5  Do Not Expect Too Much from the End of the Wor...   \n",
       "6                                Paris, Texas (1984)   \n",
       "7                                     Mad God (2021)   \n",
       "8                               The Substance (2024)   \n",
       "9                        Howl's Moving Castle (2004)   \n",
       "\n",
       "                                                link  risesinthewest  \\\n",
       "5  https://letterboxd.com/film/do-not-expect-too-...             NaN   \n",
       "6           https://letterboxd.com/film/paris-texas/             NaN   \n",
       "7               https://letterboxd.com/film/mad-god/             5.0   \n",
       "8         https://letterboxd.com/film/the-substance/             5.0   \n",
       "9   https://letterboxd.com/film/howls-moving-castle/             NaN   \n",
       "\n",
       "   Josh Larsen  crhoesing  Adam Kempenaar  Nick Davis  jamie loftus  \\\n",
       "5          4.0        NaN             NaN         3.5           NaN   \n",
       "6          4.5        NaN             5.0         4.0           NaN   \n",
       "7          3.5        NaN             NaN         NaN           NaN   \n",
       "8          3.5        NaN             NaN         3.0           5.0   \n",
       "9          NaN        4.5             3.0         NaN           NaN   \n",
       "\n",
       "   Mitra Jouhari  Maia  ratbathman  \n",
       "5            NaN   NaN         NaN  \n",
       "6            NaN   NaN         NaN  \n",
       "7            NaN   NaN         NaN  \n",
       "8            5.0   3.5         4.5  \n",
       "9            5.0   NaN         NaN  "
      ]
     },
     "execution_count": 5,
     "metadata": {},
     "output_type": "execute_result"
    }
   ],
   "source": [
    "fr_df.tail()"
   ]
  },
  {
   "cell_type": "code",
   "execution_count": 10,
   "id": "804d30ca-4ed2-4984-9c37-9f5ec07d2dc3",
   "metadata": {},
   "outputs": [
    {
     "data": {
      "text/plain": [
       "6"
      ]
     },
     "execution_count": 10,
     "metadata": {},
     "output_type": "execute_result"
    }
   ],
   "source": [
    "fr_df.index.get_loc(fr_df[fr_df['link'] == 'https://letterboxd.com/film/paris-texas/'].index[0])"
   ]
  },
  {
   "cell_type": "code",
   "execution_count": 15,
   "id": "7ea0c2b8-376d-461d-9c3e-a49adda4876f",
   "metadata": {},
   "outputs": [
    {
     "data": {
      "text/plain": [
       "'https://letterboxd.com/film/howls-moving-castle/'"
      ]
     },
     "execution_count": 15,
     "metadata": {},
     "output_type": "execute_result"
    }
   ],
   "source": [
    "fr_df.iloc[-1,]['link']"
   ]
  }
 ],
 "metadata": {
  "kernelspec": {
   "display_name": "Python 3 (ipykernel)",
   "language": "python",
   "name": "python3"
  },
  "language_info": {
   "codemirror_mode": {
    "name": "ipython",
    "version": 3
   },
   "file_extension": ".py",
   "mimetype": "text/x-python",
   "name": "python",
   "nbconvert_exporter": "python",
   "pygments_lexer": "ipython3",
   "version": "3.12.3"
  }
 },
 "nbformat": 4,
 "nbformat_minor": 5
}
