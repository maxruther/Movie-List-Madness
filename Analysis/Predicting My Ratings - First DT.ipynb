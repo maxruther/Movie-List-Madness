{
 "cells": [
  {
   "cell_type": "markdown",
   "id": "5b7a61ef-87b0-4e3b-ab7c-bb2fbfd63c32",
   "metadata": {},
   "source": [
    "# Relating Critics' Ratings to My Own\n",
    "### Movie List Project - Notebook #2\n",
    "### Max Ruther"
   ]
  },
  {
   "cell_type": "markdown",
   "id": "04a59768-d3c3-4bfc-accd-05bbf3c1a530",
   "metadata": {},
   "source": [
    "## Motivation and Overview\n",
    "\n",
    "In the previous notebook, I made improvements and additions to my table of movie ratings given by reviewers. With that done, I am excited to leap into some quick analysis here, to see if there are any patterns that connect my own ratings of a movie to those of the various reviewers. I plan to train a decision tree for this purpose, given its virtues in interpretability. Using the critics' ratings as predictors, it will classify whether I rated the movie at least \"PRETTY AWESOME\"."
   ]
  },
  {
   "cell_type": "markdown",
   "id": "0d89601b-43fd-4b96-8dfe-cf6f68d3f6ef",
   "metadata": {},
   "source": [
    "## Setup\n",
    "\n",
    "##### Imports"
   ]
  },
  {
   "cell_type": "code",
   "execution_count": 1,
   "id": "b28ad1e1-0837-4dce-b6a5-c3955239cd5d",
   "metadata": {},
   "outputs": [],
   "source": [
    "import pandas as pd\n",
    "import numpy as np\n",
    "from sqlalchemy import create_engine\n",
    "import time\n",
    "\n",
    "from sklearn.tree import DecisionTreeClassifier, export_text, plot_tree\n",
    "from sklearn.model_selection import cross_validate, train_test_split, GridSearchCV\n",
    "from sklearn.metrics import classification_report, confusion_matrix\n",
    "from sklearn.metrics import make_scorer, precision_score\n",
    "\n",
    "import matplotlib.pyplot as plt\n",
    "\n",
    "import os\n",
    "import pickle"
   ]
  },
  {
   "cell_type": "markdown",
   "id": "9a2fc572-cc72-4147-af69-3a864b923c20",
   "metadata": {},
   "source": [
    "##### Set a random seed for reproducibility"
   ]
  },
  {
   "cell_type": "code",
   "execution_count": 2,
   "id": "59720ab5-a4c0-43b0-8c4a-5824469bf120",
   "metadata": {},
   "outputs": [],
   "source": [
    "rand_st = 44"
   ]
  },
  {
   "cell_type": "markdown",
   "id": "73f5d864-4758-4406-ade3-cc60cd80bcd6",
   "metadata": {},
   "source": [
    "##### Connect the SQLAlchemy engine to my local MySQL movie database"
   ]
  },
  {
   "cell_type": "code",
   "execution_count": 3,
   "id": "dd2ecbcc-d4ff-4df7-b282-331eeebab11c",
   "metadata": {},
   "outputs": [],
   "source": [
    "# Read in my database's creds/URL from a file.\n",
    "movie_db_url = None\n",
    "with open('../.secret/movie_db_url.txt', 'r') as f:\n",
    "    movie_db_url = f.read().strip()\n",
    "\n",
    "# Connect to my MySQL movie database.\n",
    "engine = create_engine(movie_db_url)\n",
    "conn = engine.connect()"
   ]
  },
  {
   "cell_type": "markdown",
   "id": "60206aa4-1e20-4e75-9847-b0e704b90fe9",
   "metadata": {},
   "source": [
    "## Load and Merge Data\n"
   ]
  },
  {
   "cell_type": "markdown",
   "id": "06db92fd-fe5a-4fda-b59e-cf8b615e694e",
   "metadata": {},
   "source": [
    "### Loading"
   ]
  },
  {
   "cell_type": "markdown",
   "id": "348e05f4-2e08-42e4-827f-d949a3504e21",
   "metadata": {},
   "source": [
    "##### The _critic_ratings_ table"
   ]
  },
  {
   "cell_type": "code",
   "execution_count": 4,
   "id": "c971bb99-a906-4d25-93ba-3035716dc5e1",
   "metadata": {},
   "outputs": [
    {
     "data": {
      "text/html": [
       "<div>\n",
       "<style scoped>\n",
       "    .dataframe tbody tr th:only-of-type {\n",
       "        vertical-align: middle;\n",
       "    }\n",
       "\n",
       "    .dataframe tbody tr th {\n",
       "        vertical-align: top;\n",
       "    }\n",
       "\n",
       "    .dataframe thead th {\n",
       "        text-align: right;\n",
       "    }\n",
       "</style>\n",
       "<table border=\"1\" class=\"dataframe\">\n",
       "  <thead>\n",
       "    <tr style=\"text-align: right;\">\n",
       "      <th></th>\n",
       "      <th>Title</th>\n",
       "      <th>Year</th>\n",
       "      <th>IMDB_Score</th>\n",
       "      <th>RT_Score</th>\n",
       "      <th>MetaC_Score</th>\n",
       "      <th>Ebert_Score</th>\n",
       "    </tr>\n",
       "    <tr>\n",
       "      <th>Movie_ID</th>\n",
       "      <th></th>\n",
       "      <th></th>\n",
       "      <th></th>\n",
       "      <th></th>\n",
       "      <th></th>\n",
       "      <th></th>\n",
       "    </tr>\n",
       "  </thead>\n",
       "  <tbody>\n",
       "    <tr>\n",
       "      <th>1</th>\n",
       "      <td>Nickel Boys</td>\n",
       "      <td>2024</td>\n",
       "      <td>0.76</td>\n",
       "      <td>0.90</td>\n",
       "      <td>0.91</td>\n",
       "      <td>4.0</td>\n",
       "    </tr>\n",
       "    <tr>\n",
       "      <th>2</th>\n",
       "      <td>The Brutalist</td>\n",
       "      <td>2024</td>\n",
       "      <td>0.81</td>\n",
       "      <td>0.93</td>\n",
       "      <td>0.91</td>\n",
       "      <td>4.0</td>\n",
       "    </tr>\n",
       "    <tr>\n",
       "      <th>3</th>\n",
       "      <td>Hard Truths</td>\n",
       "      <td>2024</td>\n",
       "      <td>0.74</td>\n",
       "      <td>0.94</td>\n",
       "      <td>0.88</td>\n",
       "      <td>4.0</td>\n",
       "    </tr>\n",
       "    <tr>\n",
       "      <th>4</th>\n",
       "      <td>Vermiglio</td>\n",
       "      <td>2024</td>\n",
       "      <td>0.72</td>\n",
       "      <td>0.94</td>\n",
       "      <td>0.80</td>\n",
       "      <td>3.5</td>\n",
       "    </tr>\n",
       "    <tr>\n",
       "      <th>5</th>\n",
       "      <td>Wallace &amp; Gromit: Vengeance Most Fowl</td>\n",
       "      <td>2024</td>\n",
       "      <td>0.79</td>\n",
       "      <td>1.00</td>\n",
       "      <td>0.82</td>\n",
       "      <td>3.5</td>\n",
       "    </tr>\n",
       "  </tbody>\n",
       "</table>\n",
       "</div>"
      ],
      "text/plain": [
       "                                          Title  Year  IMDB_Score  RT_Score  \\\n",
       "Movie_ID                                                                      \n",
       "1                                   Nickel Boys  2024        0.76      0.90   \n",
       "2                                 The Brutalist  2024        0.81      0.93   \n",
       "3                                   Hard Truths  2024        0.74      0.94   \n",
       "4                                     Vermiglio  2024        0.72      0.94   \n",
       "5         Wallace & Gromit: Vengeance Most Fowl  2024        0.79      1.00   \n",
       "\n",
       "          MetaC_Score  Ebert_Score  \n",
       "Movie_ID                            \n",
       "1                0.91          4.0  \n",
       "2                0.91          4.0  \n",
       "3                0.88          4.0  \n",
       "4                0.80          3.5  \n",
       "5                0.82          3.5  "
      ]
     },
     "execution_count": 4,
     "metadata": {},
     "output_type": "execute_result"
    }
   ],
   "source": [
    "query = \"SELECT * FROM critic_ratings\"\n",
    "\n",
    "cr_df = pd.read_sql_query(query, engine, index_col='Movie_ID')\n",
    "cr_df.head(5)"
   ]
  },
  {
   "cell_type": "markdown",
   "id": "a5110d3f-f1ef-4015-b960-1ae3b90eaa31",
   "metadata": {},
   "source": [
    "##### The _allwatched_ table\n",
    "\n",
    "For this analysis, I am only using the various critics' review scores as predictors. Even though my _allwatched_ contains several more attributes that might have predictive value, I will leverage those in a later analysis. Here, I only import my ratings (in addition to the identifying attributes Movie_ID, title, and year):"
   ]
  },
  {
   "cell_type": "code",
   "execution_count": 5,
   "id": "5b645b0c-32a6-4eaa-bd1b-100c9291341d",
   "metadata": {},
   "outputs": [
    {
     "data": {
      "text/html": [
       "<div>\n",
       "<style scoped>\n",
       "    .dataframe tbody tr th:only-of-type {\n",
       "        vertical-align: middle;\n",
       "    }\n",
       "\n",
       "    .dataframe tbody tr th {\n",
       "        vertical-align: top;\n",
       "    }\n",
       "\n",
       "    .dataframe thead th {\n",
       "        text-align: right;\n",
       "    }\n",
       "</style>\n",
       "<table border=\"1\" class=\"dataframe\">\n",
       "  <thead>\n",
       "    <tr style=\"text-align: right;\">\n",
       "      <th></th>\n",
       "      <th>Title</th>\n",
       "      <th>Year</th>\n",
       "      <th>Rating</th>\n",
       "    </tr>\n",
       "    <tr>\n",
       "      <th>Movie_ID</th>\n",
       "      <th></th>\n",
       "      <th></th>\n",
       "      <th></th>\n",
       "    </tr>\n",
       "  </thead>\n",
       "  <tbody>\n",
       "    <tr>\n",
       "      <th>6</th>\n",
       "      <td>If Beale Street Could Talk</td>\n",
       "      <td>2018</td>\n",
       "      <td>AWESOME</td>\n",
       "    </tr>\n",
       "    <tr>\n",
       "      <th>7</th>\n",
       "      <td>Mad Max: Fury Road</td>\n",
       "      <td>2015</td>\n",
       "      <td>AWESOME</td>\n",
       "    </tr>\n",
       "    <tr>\n",
       "      <th>8</th>\n",
       "      <td>Babygirl</td>\n",
       "      <td>2024</td>\n",
       "      <td>NOT FOR ME</td>\n",
       "    </tr>\n",
       "    <tr>\n",
       "      <th>9</th>\n",
       "      <td>Inside the Yellow Cocoon Shell</td>\n",
       "      <td>2023</td>\n",
       "      <td>PRETTY AWESOME</td>\n",
       "    </tr>\n",
       "    <tr>\n",
       "      <th>10</th>\n",
       "      <td>Nosferatu</td>\n",
       "      <td>2024</td>\n",
       "      <td>PRETTY AWESOME</td>\n",
       "    </tr>\n",
       "  </tbody>\n",
       "</table>\n",
       "</div>"
      ],
      "text/plain": [
       "                                   Title  Year          Rating\n",
       "Movie_ID                                                      \n",
       "6             If Beale Street Could Talk  2018         AWESOME\n",
       "7                     Mad Max: Fury Road  2015         AWESOME\n",
       "8                               Babygirl  2024      NOT FOR ME\n",
       "9         Inside the Yellow Cocoon Shell  2023  PRETTY AWESOME\n",
       "10                             Nosferatu  2024  PRETTY AWESOME"
      ]
     },
     "execution_count": 5,
     "metadata": {},
     "output_type": "execute_result"
    }
   ],
   "source": [
    "query = \"SELECT Movie_ID, Title, Year, Rating FROM allwatched\"\n",
    "\n",
    "aw_df = pd.read_sql_query(query, engine, index_col='Movie_ID')\n",
    "aw_df.head()"
   ]
  },
  {
   "cell_type": "markdown",
   "id": "2ca96c33-b1fe-49ad-a9f8-8b423a5bb764",
   "metadata": {},
   "source": [
    "### Merging"
   ]
  },
  {
   "cell_type": "code",
   "execution_count": 6,
   "id": "ab49f8ed-c645-42a5-853d-469b40dcf5f7",
   "metadata": {
    "scrolled": true
   },
   "outputs": [
    {
     "data": {
      "text/html": [
       "<div>\n",
       "<style scoped>\n",
       "    .dataframe tbody tr th:only-of-type {\n",
       "        vertical-align: middle;\n",
       "    }\n",
       "\n",
       "    .dataframe tbody tr th {\n",
       "        vertical-align: top;\n",
       "    }\n",
       "\n",
       "    .dataframe thead th {\n",
       "        text-align: right;\n",
       "    }\n",
       "</style>\n",
       "<table border=\"1\" class=\"dataframe\">\n",
       "  <thead>\n",
       "    <tr style=\"text-align: right;\">\n",
       "      <th></th>\n",
       "      <th>Title</th>\n",
       "      <th>Year</th>\n",
       "      <th>Rating</th>\n",
       "      <th>IMDB_Score</th>\n",
       "      <th>RT_Score</th>\n",
       "      <th>MetaC_Score</th>\n",
       "      <th>Ebert_Score</th>\n",
       "    </tr>\n",
       "    <tr>\n",
       "      <th>Movie_ID</th>\n",
       "      <th></th>\n",
       "      <th></th>\n",
       "      <th></th>\n",
       "      <th></th>\n",
       "      <th></th>\n",
       "      <th></th>\n",
       "      <th></th>\n",
       "    </tr>\n",
       "  </thead>\n",
       "  <tbody>\n",
       "    <tr>\n",
       "      <th>6</th>\n",
       "      <td>If Beale Street Could Talk</td>\n",
       "      <td>2018</td>\n",
       "      <td>AWESOME</td>\n",
       "      <td>0.71</td>\n",
       "      <td>0.95</td>\n",
       "      <td>0.87</td>\n",
       "      <td>4.0</td>\n",
       "    </tr>\n",
       "    <tr>\n",
       "      <th>7</th>\n",
       "      <td>Mad Max: Fury Road</td>\n",
       "      <td>2015</td>\n",
       "      <td>AWESOME</td>\n",
       "      <td>0.81</td>\n",
       "      <td>0.97</td>\n",
       "      <td>0.90</td>\n",
       "      <td>4.0</td>\n",
       "    </tr>\n",
       "    <tr>\n",
       "      <th>8</th>\n",
       "      <td>Babygirl</td>\n",
       "      <td>2024</td>\n",
       "      <td>NOT FOR ME</td>\n",
       "      <td>0.66</td>\n",
       "      <td>0.77</td>\n",
       "      <td>0.81</td>\n",
       "      <td>3.5</td>\n",
       "    </tr>\n",
       "    <tr>\n",
       "      <th>9</th>\n",
       "      <td>Inside the Yellow Cocoon Shell</td>\n",
       "      <td>2023</td>\n",
       "      <td>PRETTY AWESOME</td>\n",
       "      <td>0.67</td>\n",
       "      <td>0.94</td>\n",
       "      <td>0.94</td>\n",
       "      <td>3.5</td>\n",
       "    </tr>\n",
       "    <tr>\n",
       "      <th>10</th>\n",
       "      <td>Nosferatu</td>\n",
       "      <td>2024</td>\n",
       "      <td>PRETTY AWESOME</td>\n",
       "      <td>0.76</td>\n",
       "      <td>0.85</td>\n",
       "      <td>0.78</td>\n",
       "      <td>4.0</td>\n",
       "    </tr>\n",
       "  </tbody>\n",
       "</table>\n",
       "</div>"
      ],
      "text/plain": [
       "                                   Title  Year          Rating  IMDB_Score  \\\n",
       "Movie_ID                                                                     \n",
       "6             If Beale Street Could Talk  2018         AWESOME        0.71   \n",
       "7                     Mad Max: Fury Road  2015         AWESOME        0.81   \n",
       "8                               Babygirl  2024      NOT FOR ME        0.66   \n",
       "9         Inside the Yellow Cocoon Shell  2023  PRETTY AWESOME        0.67   \n",
       "10                             Nosferatu  2024  PRETTY AWESOME        0.76   \n",
       "\n",
       "          RT_Score  MetaC_Score  Ebert_Score  \n",
       "Movie_ID                                      \n",
       "6             0.95         0.87          4.0  \n",
       "7             0.97         0.90          4.0  \n",
       "8             0.77         0.81          3.5  \n",
       "9             0.94         0.94          3.5  \n",
       "10            0.85         0.78          4.0  "
      ]
     },
     "execution_count": 6,
     "metadata": {},
     "output_type": "execute_result"
    }
   ],
   "source": [
    "df = aw_df.merge(cr_df, how='inner', on=['Movie_ID', 'Title', 'Year'])\n",
    "df.head(5)"
   ]
  },
  {
   "cell_type": "markdown",
   "id": "456f6861-ead9-4f69-9c9c-8c3fe24c726a",
   "metadata": {},
   "source": [
    "## Encode target field: _Rating_ -> _anyAwesome_\n",
    "\n",
    "If my rating is 'PRETTY AWESOME' or 'AWESOME', then _anyAwesome_ will show a '1'."
   ]
  },
  {
   "cell_type": "code",
   "execution_count": 7,
   "id": "27cee8b1-3972-485d-9687-968539cf5048",
   "metadata": {
    "scrolled": true
   },
   "outputs": [
    {
     "data": {
      "text/html": [
       "<div>\n",
       "<style scoped>\n",
       "    .dataframe tbody tr th:only-of-type {\n",
       "        vertical-align: middle;\n",
       "    }\n",
       "\n",
       "    .dataframe tbody tr th {\n",
       "        vertical-align: top;\n",
       "    }\n",
       "\n",
       "    .dataframe thead th {\n",
       "        text-align: right;\n",
       "    }\n",
       "</style>\n",
       "<table border=\"1\" class=\"dataframe\">\n",
       "  <thead>\n",
       "    <tr style=\"text-align: right;\">\n",
       "      <th></th>\n",
       "      <th>Title</th>\n",
       "      <th>Year</th>\n",
       "      <th>Rating</th>\n",
       "      <th>IMDB_Score</th>\n",
       "      <th>RT_Score</th>\n",
       "      <th>MetaC_Score</th>\n",
       "      <th>Ebert_Score</th>\n",
       "      <th>anyAwesome</th>\n",
       "    </tr>\n",
       "    <tr>\n",
       "      <th>Movie_ID</th>\n",
       "      <th></th>\n",
       "      <th></th>\n",
       "      <th></th>\n",
       "      <th></th>\n",
       "      <th></th>\n",
       "      <th></th>\n",
       "      <th></th>\n",
       "      <th></th>\n",
       "    </tr>\n",
       "  </thead>\n",
       "  <tbody>\n",
       "    <tr>\n",
       "      <th>6</th>\n",
       "      <td>If Beale Street Could Talk</td>\n",
       "      <td>2018</td>\n",
       "      <td>AWESOME</td>\n",
       "      <td>0.71</td>\n",
       "      <td>0.95</td>\n",
       "      <td>0.87</td>\n",
       "      <td>4.0</td>\n",
       "      <td>1</td>\n",
       "    </tr>\n",
       "    <tr>\n",
       "      <th>7</th>\n",
       "      <td>Mad Max: Fury Road</td>\n",
       "      <td>2015</td>\n",
       "      <td>AWESOME</td>\n",
       "      <td>0.81</td>\n",
       "      <td>0.97</td>\n",
       "      <td>0.90</td>\n",
       "      <td>4.0</td>\n",
       "      <td>1</td>\n",
       "    </tr>\n",
       "    <tr>\n",
       "      <th>8</th>\n",
       "      <td>Babygirl</td>\n",
       "      <td>2024</td>\n",
       "      <td>NOT FOR ME</td>\n",
       "      <td>0.66</td>\n",
       "      <td>0.77</td>\n",
       "      <td>0.81</td>\n",
       "      <td>3.5</td>\n",
       "      <td>0</td>\n",
       "    </tr>\n",
       "    <tr>\n",
       "      <th>9</th>\n",
       "      <td>Inside the Yellow Cocoon Shell</td>\n",
       "      <td>2023</td>\n",
       "      <td>PRETTY AWESOME</td>\n",
       "      <td>0.67</td>\n",
       "      <td>0.94</td>\n",
       "      <td>0.94</td>\n",
       "      <td>3.5</td>\n",
       "      <td>1</td>\n",
       "    </tr>\n",
       "    <tr>\n",
       "      <th>10</th>\n",
       "      <td>Nosferatu</td>\n",
       "      <td>2024</td>\n",
       "      <td>PRETTY AWESOME</td>\n",
       "      <td>0.76</td>\n",
       "      <td>0.85</td>\n",
       "      <td>0.78</td>\n",
       "      <td>4.0</td>\n",
       "      <td>1</td>\n",
       "    </tr>\n",
       "  </tbody>\n",
       "</table>\n",
       "</div>"
      ],
      "text/plain": [
       "                                   Title  Year          Rating  IMDB_Score  \\\n",
       "Movie_ID                                                                     \n",
       "6             If Beale Street Could Talk  2018         AWESOME        0.71   \n",
       "7                     Mad Max: Fury Road  2015         AWESOME        0.81   \n",
       "8                               Babygirl  2024      NOT FOR ME        0.66   \n",
       "9         Inside the Yellow Cocoon Shell  2023  PRETTY AWESOME        0.67   \n",
       "10                             Nosferatu  2024  PRETTY AWESOME        0.76   \n",
       "\n",
       "          RT_Score  MetaC_Score  Ebert_Score  anyAwesome  \n",
       "Movie_ID                                                  \n",
       "6             0.95         0.87          4.0           1  \n",
       "7             0.97         0.90          4.0           1  \n",
       "8             0.77         0.81          3.5           0  \n",
       "9             0.94         0.94          3.5           1  \n",
       "10            0.85         0.78          4.0           1  "
      ]
     },
     "execution_count": 7,
     "metadata": {},
     "output_type": "execute_result"
    }
   ],
   "source": [
    "df.loc[:, ('anyAwesome')] = np.where(df.loc[:, ('Rating')].str.contains('AWESOME'), 1, 0)\n",
    "df.head()"
   ]
  },
  {
   "cell_type": "code",
   "execution_count": 8,
   "id": "b16db035-d46b-4e3b-bc85-1491535f120e",
   "metadata": {},
   "outputs": [],
   "source": [
    "output_dir_relpath = '../data/analysis/2-Predicting_My_Ratings'\n",
    "\n",
    "df.to_csv(f'{output_dir_relpath}/watch_df_1.csv', index=True)"
   ]
  },
  {
   "cell_type": "markdown",
   "id": "7ba98b66-a5fa-4c38-9774-72a620bb0b3d",
   "metadata": {},
   "source": [
    "##### Dropping the _Rating_ field, following its encoding."
   ]
  },
  {
   "cell_type": "code",
   "execution_count": 9,
   "id": "7d864a4a-ce60-453c-b264-bd5aafe8db68",
   "metadata": {},
   "outputs": [],
   "source": [
    "df_anyAwe = df.loc[:, df.columns != 'Rating']"
   ]
  },
  {
   "cell_type": "markdown",
   "id": "b0598647-680d-4244-bba1-5de861821108",
   "metadata": {},
   "source": [
    "### Missing Values"
   ]
  },
  {
   "cell_type": "markdown",
   "id": "4960ad8c-a5ce-4803-bf61-88928a3f526e",
   "metadata": {},
   "source": [
    "#### Identifying Missing Values"
   ]
  },
  {
   "cell_type": "markdown",
   "id": "89b8d322-bd2d-4e74-a993-b1ecbfeed2ce",
   "metadata": {},
   "source": [
    "Checking each attribute's count, alongside other descriptive statistics:"
   ]
  },
  {
   "cell_type": "code",
   "execution_count": 10,
   "id": "8cc3cd41-334d-4834-8bab-22c400d22353",
   "metadata": {},
   "outputs": [
    {
     "data": {
      "text/html": [
       "<div>\n",
       "<style scoped>\n",
       "    .dataframe tbody tr th:only-of-type {\n",
       "        vertical-align: middle;\n",
       "    }\n",
       "\n",
       "    .dataframe tbody tr th {\n",
       "        vertical-align: top;\n",
       "    }\n",
       "\n",
       "    .dataframe thead th {\n",
       "        text-align: right;\n",
       "    }\n",
       "</style>\n",
       "<table border=\"1\" class=\"dataframe\">\n",
       "  <thead>\n",
       "    <tr style=\"text-align: right;\">\n",
       "      <th></th>\n",
       "      <th>IMDB_Score</th>\n",
       "      <th>RT_Score</th>\n",
       "      <th>MetaC_Score</th>\n",
       "      <th>Ebert_Score</th>\n",
       "      <th>anyAwesome</th>\n",
       "    </tr>\n",
       "  </thead>\n",
       "  <tbody>\n",
       "    <tr>\n",
       "      <th>count</th>\n",
       "      <td>216.000000</td>\n",
       "      <td>215.000000</td>\n",
       "      <td>210.000000</td>\n",
       "      <td>201.000000</td>\n",
       "      <td>216.000000</td>\n",
       "    </tr>\n",
       "    <tr>\n",
       "      <th>mean</th>\n",
       "      <td>0.702037</td>\n",
       "      <td>0.812605</td>\n",
       "      <td>0.721952</td>\n",
       "      <td>3.472637</td>\n",
       "      <td>0.314815</td>\n",
       "    </tr>\n",
       "    <tr>\n",
       "      <th>std</th>\n",
       "      <td>0.075959</td>\n",
       "      <td>0.198933</td>\n",
       "      <td>0.158436</td>\n",
       "      <td>3.377573</td>\n",
       "      <td>0.465521</td>\n",
       "    </tr>\n",
       "    <tr>\n",
       "      <th>min</th>\n",
       "      <td>0.300000</td>\n",
       "      <td>0.050000</td>\n",
       "      <td>0.240000</td>\n",
       "      <td>1.000000</td>\n",
       "      <td>0.000000</td>\n",
       "    </tr>\n",
       "    <tr>\n",
       "      <th>25%</th>\n",
       "      <td>0.660000</td>\n",
       "      <td>0.755000</td>\n",
       "      <td>0.640000</td>\n",
       "      <td>3.000000</td>\n",
       "      <td>0.000000</td>\n",
       "    </tr>\n",
       "    <tr>\n",
       "      <th>50%</th>\n",
       "      <td>0.710000</td>\n",
       "      <td>0.890000</td>\n",
       "      <td>0.760000</td>\n",
       "      <td>3.500000</td>\n",
       "      <td>0.000000</td>\n",
       "    </tr>\n",
       "    <tr>\n",
       "      <th>75%</th>\n",
       "      <td>0.750000</td>\n",
       "      <td>0.940000</td>\n",
       "      <td>0.830000</td>\n",
       "      <td>4.000000</td>\n",
       "      <td>1.000000</td>\n",
       "    </tr>\n",
       "    <tr>\n",
       "      <th>max</th>\n",
       "      <td>0.870000</td>\n",
       "      <td>1.000000</td>\n",
       "      <td>1.000000</td>\n",
       "      <td>50.000000</td>\n",
       "      <td>1.000000</td>\n",
       "    </tr>\n",
       "  </tbody>\n",
       "</table>\n",
       "</div>"
      ],
      "text/plain": [
       "       IMDB_Score    RT_Score  MetaC_Score  Ebert_Score  anyAwesome\n",
       "count  216.000000  215.000000   210.000000   201.000000  216.000000\n",
       "mean     0.702037    0.812605     0.721952     3.472637    0.314815\n",
       "std      0.075959    0.198933     0.158436     3.377573    0.465521\n",
       "min      0.300000    0.050000     0.240000     1.000000    0.000000\n",
       "25%      0.660000    0.755000     0.640000     3.000000    0.000000\n",
       "50%      0.710000    0.890000     0.760000     3.500000    0.000000\n",
       "75%      0.750000    0.940000     0.830000     4.000000    1.000000\n",
       "max      0.870000    1.000000     1.000000    50.000000    1.000000"
      ]
     },
     "execution_count": 10,
     "metadata": {},
     "output_type": "execute_result"
    }
   ],
   "source": [
    "df_anyAwe.describe()"
   ]
  },
  {
   "cell_type": "markdown",
   "id": "85a67148-919e-4fcd-9733-54c1a1dd42c4",
   "metadata": {},
   "source": [
    "Total number of rows in df:"
   ]
  },
  {
   "cell_type": "code",
   "execution_count": 11,
   "id": "7cc2e498-604d-43ab-9acc-498c6d83580a",
   "metadata": {},
   "outputs": [
    {
     "data": {
      "text/plain": [
       "216"
      ]
     },
     "execution_count": 11,
     "metadata": {},
     "output_type": "execute_result"
    }
   ],
   "source": [
    "df_anyAwe.shape[0]"
   ]
  },
  {
   "cell_type": "markdown",
   "id": "54547cc3-9097-4b8d-b2a1-5fdd7279c993",
   "metadata": {},
   "source": [
    "Total number of rows in df after dropping rows with missing values:"
   ]
  },
  {
   "cell_type": "code",
   "execution_count": 12,
   "id": "fc3c0611-792d-4398-92ca-f27585679864",
   "metadata": {},
   "outputs": [
    {
     "data": {
      "text/plain": [
       "200"
      ]
     },
     "execution_count": 12,
     "metadata": {},
     "output_type": "execute_result"
    }
   ],
   "source": [
    "df_anyAwe.dropna().shape[0]"
   ]
  },
  {
   "cell_type": "markdown",
   "id": "f6dbe50b-38b5-4c4b-8aca-47a5e56c1559",
   "metadata": {},
   "source": [
    "Number of rows with missing values:"
   ]
  },
  {
   "cell_type": "code",
   "execution_count": 13,
   "id": "5ccc6c90-083c-4fc7-959a-3ccafd0e2d8c",
   "metadata": {},
   "outputs": [
    {
     "data": {
      "text/plain": [
       "16"
      ]
     },
     "execution_count": 13,
     "metadata": {},
     "output_type": "execute_result"
    }
   ],
   "source": [
    "df_anyAwe.shape[0] - df_anyAwe.dropna().shape[0]"
   ]
  },
  {
   "cell_type": "markdown",
   "id": "8adf4057-614c-4298-9f5e-c9810b44044a",
   "metadata": {},
   "source": [
    "Count of missing values by column:"
   ]
  },
  {
   "cell_type": "code",
   "execution_count": 14,
   "id": "c26dacfd-5d6f-4571-bb50-03c42f9870c3",
   "metadata": {},
   "outputs": [
    {
     "data": {
      "text/plain": [
       "Title           0\n",
       "Year            0\n",
       "IMDB_Score      0\n",
       "RT_Score        1\n",
       "MetaC_Score     6\n",
       "Ebert_Score    15\n",
       "anyAwesome      0\n",
       "dtype: int64"
      ]
     },
     "execution_count": 14,
     "metadata": {},
     "output_type": "execute_result"
    }
   ],
   "source": [
    "df_anyAwe.isna().sum(axis=0)"
   ]
  },
  {
   "cell_type": "markdown",
   "id": "be1562ce-dbde-4c15-bc01-3bf2f762b763",
   "metadata": {},
   "source": [
    "Viewing all rows that contain a missing value:"
   ]
  },
  {
   "cell_type": "code",
   "execution_count": 15,
   "id": "d01e4fc6-bd17-4c25-a47d-0c9bb3ac5d41",
   "metadata": {},
   "outputs": [
    {
     "data": {
      "text/html": [
       "<div>\n",
       "<style scoped>\n",
       "    .dataframe tbody tr th:only-of-type {\n",
       "        vertical-align: middle;\n",
       "    }\n",
       "\n",
       "    .dataframe tbody tr th {\n",
       "        vertical-align: top;\n",
       "    }\n",
       "\n",
       "    .dataframe thead th {\n",
       "        text-align: right;\n",
       "    }\n",
       "</style>\n",
       "<table border=\"1\" class=\"dataframe\">\n",
       "  <thead>\n",
       "    <tr style=\"text-align: right;\">\n",
       "      <th></th>\n",
       "      <th>Title</th>\n",
       "      <th>Year</th>\n",
       "      <th>IMDB_Score</th>\n",
       "      <th>RT_Score</th>\n",
       "      <th>MetaC_Score</th>\n",
       "      <th>Ebert_Score</th>\n",
       "      <th>anyAwesome</th>\n",
       "    </tr>\n",
       "    <tr>\n",
       "      <th>Movie_ID</th>\n",
       "      <th></th>\n",
       "      <th></th>\n",
       "      <th></th>\n",
       "      <th></th>\n",
       "      <th></th>\n",
       "      <th></th>\n",
       "      <th></th>\n",
       "    </tr>\n",
       "  </thead>\n",
       "  <tbody>\n",
       "    <tr>\n",
       "      <th>45</th>\n",
       "      <td>The Next Karate Kid</td>\n",
       "      <td>1994</td>\n",
       "      <td>0.46</td>\n",
       "      <td>0.07</td>\n",
       "      <td>0.36</td>\n",
       "      <td>NaN</td>\n",
       "      <td>0</td>\n",
       "    </tr>\n",
       "    <tr>\n",
       "      <th>46</th>\n",
       "      <td>Harry and the Hendersons</td>\n",
       "      <td>1987</td>\n",
       "      <td>0.61</td>\n",
       "      <td>0.48</td>\n",
       "      <td>0.42</td>\n",
       "      <td>NaN</td>\n",
       "      <td>0</td>\n",
       "    </tr>\n",
       "    <tr>\n",
       "      <th>48</th>\n",
       "      <td>Air Bud</td>\n",
       "      <td>1997</td>\n",
       "      <td>0.53</td>\n",
       "      <td>0.48</td>\n",
       "      <td>NaN</td>\n",
       "      <td>3.0</td>\n",
       "      <td>0</td>\n",
       "    </tr>\n",
       "    <tr>\n",
       "      <th>68</th>\n",
       "      <td>Only the River Flows</td>\n",
       "      <td>2023</td>\n",
       "      <td>0.66</td>\n",
       "      <td>0.85</td>\n",
       "      <td>0.70</td>\n",
       "      <td>NaN</td>\n",
       "      <td>0</td>\n",
       "    </tr>\n",
       "    <tr>\n",
       "      <th>146</th>\n",
       "      <td>Inspector Ike</td>\n",
       "      <td>2020</td>\n",
       "      <td>0.66</td>\n",
       "      <td>1.00</td>\n",
       "      <td>NaN</td>\n",
       "      <td>NaN</td>\n",
       "      <td>0</td>\n",
       "    </tr>\n",
       "    <tr>\n",
       "      <th>151</th>\n",
       "      <td>Nate - A One Man Show</td>\n",
       "      <td>2020</td>\n",
       "      <td>0.67</td>\n",
       "      <td>0.88</td>\n",
       "      <td>NaN</td>\n",
       "      <td>NaN</td>\n",
       "      <td>1</td>\n",
       "    </tr>\n",
       "    <tr>\n",
       "      <th>209</th>\n",
       "      <td>Pokemon 2000</td>\n",
       "      <td>2000</td>\n",
       "      <td>0.75</td>\n",
       "      <td>0.19</td>\n",
       "      <td>0.28</td>\n",
       "      <td>NaN</td>\n",
       "      <td>0</td>\n",
       "    </tr>\n",
       "    <tr>\n",
       "      <th>210</th>\n",
       "      <td>The Last Unicorn</td>\n",
       "      <td>1982</td>\n",
       "      <td>0.73</td>\n",
       "      <td>0.75</td>\n",
       "      <td>0.70</td>\n",
       "      <td>NaN</td>\n",
       "      <td>0</td>\n",
       "    </tr>\n",
       "    <tr>\n",
       "      <th>212</th>\n",
       "      <td>Millennium Actress</td>\n",
       "      <td>2001</td>\n",
       "      <td>0.78</td>\n",
       "      <td>0.93</td>\n",
       "      <td>0.70</td>\n",
       "      <td>NaN</td>\n",
       "      <td>0</td>\n",
       "    </tr>\n",
       "    <tr>\n",
       "      <th>213</th>\n",
       "      <td>Akira</td>\n",
       "      <td>1988</td>\n",
       "      <td>0.80</td>\n",
       "      <td>0.91</td>\n",
       "      <td>0.68</td>\n",
       "      <td>NaN</td>\n",
       "      <td>1</td>\n",
       "    </tr>\n",
       "    <tr>\n",
       "      <th>218</th>\n",
       "      <td>Troll 2</td>\n",
       "      <td>1990</td>\n",
       "      <td>0.30</td>\n",
       "      <td>0.05</td>\n",
       "      <td>NaN</td>\n",
       "      <td>NaN</td>\n",
       "      <td>0</td>\n",
       "    </tr>\n",
       "    <tr>\n",
       "      <th>225</th>\n",
       "      <td>Memories</td>\n",
       "      <td>1995</td>\n",
       "      <td>0.75</td>\n",
       "      <td>NaN</td>\n",
       "      <td>NaN</td>\n",
       "      <td>NaN</td>\n",
       "      <td>0</td>\n",
       "    </tr>\n",
       "    <tr>\n",
       "      <th>227</th>\n",
       "      <td>The Boondock Saints</td>\n",
       "      <td>1999</td>\n",
       "      <td>0.76</td>\n",
       "      <td>0.26</td>\n",
       "      <td>0.44</td>\n",
       "      <td>NaN</td>\n",
       "      <td>0</td>\n",
       "    </tr>\n",
       "    <tr>\n",
       "      <th>241</th>\n",
       "      <td>Highlander</td>\n",
       "      <td>1986</td>\n",
       "      <td>0.70</td>\n",
       "      <td>0.69</td>\n",
       "      <td>0.24</td>\n",
       "      <td>NaN</td>\n",
       "      <td>0</td>\n",
       "    </tr>\n",
       "    <tr>\n",
       "      <th>256</th>\n",
       "      <td>Demolition Man</td>\n",
       "      <td>1993</td>\n",
       "      <td>0.67</td>\n",
       "      <td>0.64</td>\n",
       "      <td>0.34</td>\n",
       "      <td>NaN</td>\n",
       "      <td>0</td>\n",
       "    </tr>\n",
       "    <tr>\n",
       "      <th>266</th>\n",
       "      <td>Rampant</td>\n",
       "      <td>2018</td>\n",
       "      <td>0.63</td>\n",
       "      <td>0.62</td>\n",
       "      <td>NaN</td>\n",
       "      <td>NaN</td>\n",
       "      <td>0</td>\n",
       "    </tr>\n",
       "  </tbody>\n",
       "</table>\n",
       "</div>"
      ],
      "text/plain": [
       "                             Title  Year  IMDB_Score  RT_Score  MetaC_Score  \\\n",
       "Movie_ID                                                                      \n",
       "45             The Next Karate Kid  1994        0.46      0.07         0.36   \n",
       "46        Harry and the Hendersons  1987        0.61      0.48         0.42   \n",
       "48                         Air Bud  1997        0.53      0.48          NaN   \n",
       "68            Only the River Flows  2023        0.66      0.85         0.70   \n",
       "146                  Inspector Ike  2020        0.66      1.00          NaN   \n",
       "151          Nate - A One Man Show  2020        0.67      0.88          NaN   \n",
       "209                   Pokemon 2000  2000        0.75      0.19         0.28   \n",
       "210               The Last Unicorn  1982        0.73      0.75         0.70   \n",
       "212             Millennium Actress  2001        0.78      0.93         0.70   \n",
       "213                          Akira  1988        0.80      0.91         0.68   \n",
       "218                        Troll 2  1990        0.30      0.05          NaN   \n",
       "225                       Memories  1995        0.75       NaN          NaN   \n",
       "227            The Boondock Saints  1999        0.76      0.26         0.44   \n",
       "241                     Highlander  1986        0.70      0.69         0.24   \n",
       "256                 Demolition Man  1993        0.67      0.64         0.34   \n",
       "266                        Rampant  2018        0.63      0.62          NaN   \n",
       "\n",
       "          Ebert_Score  anyAwesome  \n",
       "Movie_ID                           \n",
       "45                NaN           0  \n",
       "46                NaN           0  \n",
       "48                3.0           0  \n",
       "68                NaN           0  \n",
       "146               NaN           0  \n",
       "151               NaN           1  \n",
       "209               NaN           0  \n",
       "210               NaN           0  \n",
       "212               NaN           0  \n",
       "213               NaN           1  \n",
       "218               NaN           0  \n",
       "225               NaN           0  \n",
       "227               NaN           0  \n",
       "241               NaN           0  \n",
       "256               NaN           0  \n",
       "266               NaN           0  "
      ]
     },
     "execution_count": 15,
     "metadata": {},
     "output_type": "execute_result"
    }
   ],
   "source": [
    "# df_anyAwe.isna().any(axis=1).sum()\n",
    "df_anyAwe[df_anyAwe.isna().any(axis=1)]"
   ]
  },
  {
   "cell_type": "markdown",
   "id": "90ed43c4-0de7-4df7-bb96-648e14fdbbe0",
   "metadata": {},
   "source": [
    "The RogerEbert.com reviews are currently the biggest limiting factor. It looks like more than half of these records would be complete, were it not for a missing Ebert score."
   ]
  },
  {
   "cell_type": "markdown",
   "id": "ec8678fc-e5d0-40a4-abc7-a877509f8212",
   "metadata": {},
   "source": [
    "#### Dropping Missing Values"
   ]
  },
  {
   "cell_type": "code",
   "execution_count": 16,
   "id": "85b568a5-6013-4996-a360-b5587dd6abed",
   "metadata": {},
   "outputs": [],
   "source": [
    "df_anyAwe = df_anyAwe.dropna()"
   ]
  },
  {
   "cell_type": "markdown",
   "id": "9396b32c-6d16-4351-8858-7209ebcce3c3",
   "metadata": {},
   "source": [
    "### Save df to file before splitting"
   ]
  },
  {
   "cell_type": "code",
   "execution_count": 17,
   "id": "a3453a76-ea27-48ff-851c-2c330d05f5a4",
   "metadata": {},
   "outputs": [
    {
     "data": {
      "text/html": [
       "<div>\n",
       "<style scoped>\n",
       "    .dataframe tbody tr th:only-of-type {\n",
       "        vertical-align: middle;\n",
       "    }\n",
       "\n",
       "    .dataframe tbody tr th {\n",
       "        vertical-align: top;\n",
       "    }\n",
       "\n",
       "    .dataframe thead th {\n",
       "        text-align: right;\n",
       "    }\n",
       "</style>\n",
       "<table border=\"1\" class=\"dataframe\">\n",
       "  <thead>\n",
       "    <tr style=\"text-align: right;\">\n",
       "      <th></th>\n",
       "      <th>Title</th>\n",
       "      <th>Year</th>\n",
       "      <th>IMDB_Score</th>\n",
       "      <th>RT_Score</th>\n",
       "      <th>MetaC_Score</th>\n",
       "      <th>Ebert_Score</th>\n",
       "      <th>anyAwesome</th>\n",
       "    </tr>\n",
       "    <tr>\n",
       "      <th>Movie_ID</th>\n",
       "      <th></th>\n",
       "      <th></th>\n",
       "      <th></th>\n",
       "      <th></th>\n",
       "      <th></th>\n",
       "      <th></th>\n",
       "      <th></th>\n",
       "    </tr>\n",
       "  </thead>\n",
       "  <tbody>\n",
       "    <tr>\n",
       "      <th>6</th>\n",
       "      <td>If Beale Street Could Talk</td>\n",
       "      <td>2018</td>\n",
       "      <td>0.71</td>\n",
       "      <td>0.95</td>\n",
       "      <td>0.87</td>\n",
       "      <td>4.0</td>\n",
       "      <td>1</td>\n",
       "    </tr>\n",
       "    <tr>\n",
       "      <th>7</th>\n",
       "      <td>Mad Max: Fury Road</td>\n",
       "      <td>2015</td>\n",
       "      <td>0.81</td>\n",
       "      <td>0.97</td>\n",
       "      <td>0.90</td>\n",
       "      <td>4.0</td>\n",
       "      <td>1</td>\n",
       "    </tr>\n",
       "    <tr>\n",
       "      <th>8</th>\n",
       "      <td>Babygirl</td>\n",
       "      <td>2024</td>\n",
       "      <td>0.66</td>\n",
       "      <td>0.77</td>\n",
       "      <td>0.81</td>\n",
       "      <td>3.5</td>\n",
       "      <td>0</td>\n",
       "    </tr>\n",
       "    <tr>\n",
       "      <th>9</th>\n",
       "      <td>Inside the Yellow Cocoon Shell</td>\n",
       "      <td>2023</td>\n",
       "      <td>0.67</td>\n",
       "      <td>0.94</td>\n",
       "      <td>0.94</td>\n",
       "      <td>3.5</td>\n",
       "      <td>1</td>\n",
       "    </tr>\n",
       "    <tr>\n",
       "      <th>10</th>\n",
       "      <td>Nosferatu</td>\n",
       "      <td>2024</td>\n",
       "      <td>0.76</td>\n",
       "      <td>0.85</td>\n",
       "      <td>0.78</td>\n",
       "      <td>4.0</td>\n",
       "      <td>1</td>\n",
       "    </tr>\n",
       "  </tbody>\n",
       "</table>\n",
       "</div>"
      ],
      "text/plain": [
       "                                   Title  Year  IMDB_Score  RT_Score  \\\n",
       "Movie_ID                                                               \n",
       "6             If Beale Street Could Talk  2018        0.71      0.95   \n",
       "7                     Mad Max: Fury Road  2015        0.81      0.97   \n",
       "8                               Babygirl  2024        0.66      0.77   \n",
       "9         Inside the Yellow Cocoon Shell  2023        0.67      0.94   \n",
       "10                             Nosferatu  2024        0.76      0.85   \n",
       "\n",
       "          MetaC_Score  Ebert_Score  anyAwesome  \n",
       "Movie_ID                                        \n",
       "6                0.87          4.0           1  \n",
       "7                0.90          4.0           1  \n",
       "8                0.81          3.5           0  \n",
       "9                0.94          3.5           1  \n",
       "10               0.78          4.0           1  "
      ]
     },
     "execution_count": 17,
     "metadata": {},
     "output_type": "execute_result"
    }
   ],
   "source": [
    "df_anyAwe.head()"
   ]
  },
  {
   "cell_type": "code",
   "execution_count": 18,
   "id": "a47502a9-56c2-45a7-808a-691494984457",
   "metadata": {},
   "outputs": [],
   "source": [
    "df_anyAwe.to_csv(f'{output_dir_relpath}/mList_df_all.csv', index=True)"
   ]
  },
  {
   "cell_type": "markdown",
   "id": "4f87200c-27f0-4dad-a3da-39a1518756cc",
   "metadata": {},
   "source": [
    "### Split data for model training"
   ]
  },
  {
   "cell_type": "markdown",
   "id": "b49b52a7-13dc-4177-9064-b68ddf06cc5a",
   "metadata": {},
   "source": [
    "#### Create the predictor set"
   ]
  },
  {
   "cell_type": "code",
   "execution_count": 19,
   "id": "8b7b5413-40d2-49d5-99a9-d60572df2205",
   "metadata": {
    "scrolled": true
   },
   "outputs": [
    {
     "data": {
      "text/html": [
       "<div>\n",
       "<style scoped>\n",
       "    .dataframe tbody tr th:only-of-type {\n",
       "        vertical-align: middle;\n",
       "    }\n",
       "\n",
       "    .dataframe tbody tr th {\n",
       "        vertical-align: top;\n",
       "    }\n",
       "\n",
       "    .dataframe thead th {\n",
       "        text-align: right;\n",
       "    }\n",
       "</style>\n",
       "<table border=\"1\" class=\"dataframe\">\n",
       "  <thead>\n",
       "    <tr style=\"text-align: right;\">\n",
       "      <th></th>\n",
       "      <th>IMDB_Score</th>\n",
       "      <th>RT_Score</th>\n",
       "      <th>MetaC_Score</th>\n",
       "      <th>Ebert_Score</th>\n",
       "    </tr>\n",
       "    <tr>\n",
       "      <th>Movie_ID</th>\n",
       "      <th></th>\n",
       "      <th></th>\n",
       "      <th></th>\n",
       "      <th></th>\n",
       "    </tr>\n",
       "  </thead>\n",
       "  <tbody>\n",
       "    <tr>\n",
       "      <th>6</th>\n",
       "      <td>0.71</td>\n",
       "      <td>0.95</td>\n",
       "      <td>0.87</td>\n",
       "      <td>4.0</td>\n",
       "    </tr>\n",
       "    <tr>\n",
       "      <th>7</th>\n",
       "      <td>0.81</td>\n",
       "      <td>0.97</td>\n",
       "      <td>0.90</td>\n",
       "      <td>4.0</td>\n",
       "    </tr>\n",
       "    <tr>\n",
       "      <th>8</th>\n",
       "      <td>0.66</td>\n",
       "      <td>0.77</td>\n",
       "      <td>0.81</td>\n",
       "      <td>3.5</td>\n",
       "    </tr>\n",
       "    <tr>\n",
       "      <th>9</th>\n",
       "      <td>0.67</td>\n",
       "      <td>0.94</td>\n",
       "      <td>0.94</td>\n",
       "      <td>3.5</td>\n",
       "    </tr>\n",
       "    <tr>\n",
       "      <th>10</th>\n",
       "      <td>0.76</td>\n",
       "      <td>0.85</td>\n",
       "      <td>0.78</td>\n",
       "      <td>4.0</td>\n",
       "    </tr>\n",
       "  </tbody>\n",
       "</table>\n",
       "</div>"
      ],
      "text/plain": [
       "          IMDB_Score  RT_Score  MetaC_Score  Ebert_Score\n",
       "Movie_ID                                                \n",
       "6               0.71      0.95         0.87          4.0\n",
       "7               0.81      0.97         0.90          4.0\n",
       "8               0.66      0.77         0.81          3.5\n",
       "9               0.67      0.94         0.94          3.5\n",
       "10              0.76      0.85         0.78          4.0"
      ]
     },
     "execution_count": 19,
     "metadata": {},
     "output_type": "execute_result"
    }
   ],
   "source": [
    "# X1 = df_anyAwe.loc[:, df_anyAwe.columns != 'anyAwesome']\n",
    "X1 = df_anyAwe.loc[:, ['IMDB_Score', 'RT_Score', 'MetaC_Score', 'Ebert_Score']]\n",
    "X1.head()"
   ]
  },
  {
   "cell_type": "markdown",
   "id": "094ec5d1-d122-40d6-94b3-86f0d4a48400",
   "metadata": {},
   "source": [
    "#### Create the target set"
   ]
  },
  {
   "cell_type": "code",
   "execution_count": 20,
   "id": "c7fb0c2f-f747-4ff1-a06e-55a579ac3f37",
   "metadata": {},
   "outputs": [
    {
     "data": {
      "text/plain": [
       "Movie_ID\n",
       "6     1\n",
       "7     1\n",
       "8     0\n",
       "9     1\n",
       "10    1\n",
       "Name: anyAwesome, dtype: int32"
      ]
     },
     "execution_count": 20,
     "metadata": {},
     "output_type": "execute_result"
    }
   ],
   "source": [
    "y1 = df_anyAwe.loc[:, ('anyAwesome')]\n",
    "y1.head()"
   ]
  },
  {
   "cell_type": "markdown",
   "id": "9addd95f-3971-408d-b601-a2584a47f35f",
   "metadata": {},
   "source": [
    "#### Split these into train and test sets"
   ]
  },
  {
   "cell_type": "code",
   "execution_count": 21,
   "id": "7d37cc0e-d873-46b9-8101-53135aeb4aaf",
   "metadata": {},
   "outputs": [],
   "source": [
    "X1_train, X1_test, y1_train, y1_test = train_test_split(X1, y1, test_size=0.2,\n",
    "                                                    random_state=rand_st)"
   ]
  },
  {
   "cell_type": "markdown",
   "id": "04f2a204-f5f7-4005-837c-8891b295bbcb",
   "metadata": {},
   "source": [
    "#### Save these split-up sets to files "
   ]
  },
  {
   "cell_type": "code",
   "execution_count": 22,
   "id": "1187d0f2-2584-45bb-874e-019e6a29acb2",
   "metadata": {},
   "outputs": [],
   "source": [
    "X1_train.to_csv(f'{output_dir_relpath}/mList_df_X_train.csv', index=True)\n",
    "X1_test.to_csv(f'{output_dir_relpath}/mList_df_X1_test.csv', index=True)\n",
    "y1_train.to_csv(f'{output_dir_relpath}/mList_df_y1_train.csv', index=True)\n",
    "y1_test.to_csv(f'{output_dir_relpath}/mList_df_y1_test.csv', index=True)"
   ]
  },
  {
   "cell_type": "markdown",
   "id": "202d75ba-5376-4fa5-b015-291715b1d4b9",
   "metadata": {},
   "source": [
    "## Modelling - Decision Tree"
   ]
  },
  {
   "cell_type": "markdown",
   "id": "7c92fed7-67dc-4c6b-a936-3d28f68d61b1",
   "metadata": {},
   "source": [
    "### Hypertuning, using Gridsearch"
   ]
  },
  {
   "cell_type": "code",
   "execution_count": 23,
   "id": "cf741123-a7ac-4328-9657-e4eee1404593",
   "metadata": {},
   "outputs": [
    {
     "name": "stdout",
     "output_type": "stream",
     "text": [
      "Best Estimator: DecisionTreeClassifier(criterion='entropy', max_depth=3, random_state=44)\n",
      "Best Score: \t0.66875\n"
     ]
    }
   ],
   "source": [
    "params = {\"criterion\": ['gini', 'entropy'],\n",
    "          'max_depth': list(range(3,9,2))}\n",
    "\n",
    "precision_scorer = make_scorer(precision_score, zero_division=0)\n",
    "scorers = {'Accuracy': 'accuracy', 'roc_auc': 'roc_auc',\n",
    "           'precision': precision_scorer, 'recall': 'recall', 'f1': 'f1'}\n",
    "\n",
    "DT_gs = GridSearchCV(\n",
    "    DecisionTreeClassifier(random_state=rand_st),\n",
    "    param_grid=params,\n",
    "    scoring=scorers,\n",
    "    refit='Accuracy'\n",
    ")\n",
    "\n",
    "DT_gs.fit(X1_train, y1_train)\n",
    "\n",
    "print(f'Best Estimator: {DT_gs.best_estimator_}')\n",
    "\n",
    "results = DT_gs.cv_results_\n",
    "\n",
    "best_index = np.nonzero(results['rank_test_Accuracy'] == 1)[0][0]\n",
    "best_score = results['mean_test_Accuracy'][best_index]\n",
    "\n",
    "print(f'Best Score: \\t{best_score}')\n"
   ]
  },
  {
   "cell_type": "markdown",
   "id": "86191722-248f-4191-82e0-d7c882260a8e",
   "metadata": {},
   "source": [
    "### Training and Evaluation"
   ]
  },
  {
   "cell_type": "markdown",
   "id": "72100cff-6df0-41ec-b242-05862660cf97",
   "metadata": {},
   "source": [
    "The following function takes a classifier, training data, and its labels to run 10-fold cross-validation and report train performance metrics."
   ]
  },
  {
   "cell_type": "code",
   "execution_count": 24,
   "id": "5337890f-8109-4030-9eb2-5e2841536f01",
   "metadata": {},
   "outputs": [],
   "source": [
    "def train_and_eval_model(clf, X_train_arg, y_train_arg):\n",
    "  '''Takes a classifier; runs CV on X_train and y_train; then prints and returns\n",
    "  validation results.'''\n",
    "  scorers = {'Accuracy': 'accuracy', 'roc_auc': 'roc_auc',\n",
    "           'precision': precision_scorer, 'recall': 'recall', 'f1': 'f1'}\n",
    "\n",
    "  start_ts = time.time()\n",
    "\n",
    "  scores = cross_validate(clf, X_train_arg, y_train_arg, scoring=scorers, cv=10)\n",
    "\n",
    "  # Retrieve and calculate intervals of training metrics\n",
    "  train_acc = scores['test_Accuracy']\n",
    "  train_acc_str = f\"%0.4f (+/- %0.2f)\" % (train_acc.mean(), train_acc.std() * 2)\n",
    "\n",
    "  train_f1 = scores['test_f1']\n",
    "  train_f1_str = f\"%0.4f (+/- %0.2f)\" % (train_f1.mean(), train_f1.std() * 2)\n",
    "\n",
    "  train_precision = scores['test_precision']\n",
    "  train_precision_str = f\"%0.4f (+/- %0.2f)\" % (train_precision.mean(),\n",
    "                                            train_precision.std() * 2)\n",
    "\n",
    "  train_recall = scores['test_recall']\n",
    "  train_recall_str = f\"%0.4f (+/- %0.2f)\" % (train_recall.mean(),\n",
    "                                            train_recall.std() * 2)\n",
    "\n",
    "  # Print training metrics\n",
    "  print('\\n----------------------------------',\n",
    "        f'   TRAINING VALIDATION RESULTS     ',\n",
    "        '----------------------------------\\n',\n",
    "        f'Accuracy:\\t{train_acc_str}',\n",
    "        f'F1:\\t\\t{train_f1_str}',\n",
    "        f'Precision:\\t{train_precision_str}',\n",
    "        f'Recall:\\t\\t{train_recall_str}',\n",
    "      sep = '\\n')\n",
    "\n",
    "  runtime = time.time()-start_ts\n",
    "  print(f\"\\nCV Runtime:\\t{runtime:.4f} s\")\n",
    "\n",
    "  return [runtime, train_precision_str, train_acc_str, train_recall_str, train_f1_str]"
   ]
  },
  {
   "cell_type": "markdown",
   "id": "ecd68142-d5f4-43b0-b0ad-89be0b90bdf3",
   "metadata": {},
   "source": [
    "Create a decision tree with the hyperparameters that were found to be optimal in the gridsearch, then train and evaluate the performance of the model."
   ]
  },
  {
   "cell_type": "code",
   "execution_count": 25,
   "id": "6b178b07-e65d-474b-8988-0e73dde147fa",
   "metadata": {},
   "outputs": [
    {
     "name": "stdout",
     "output_type": "stream",
     "text": [
      "\n",
      "----------------------------------\n",
      "   TRAINING VALIDATION RESULTS     \n",
      "----------------------------------\n",
      "\n",
      "Accuracy:\t0.6750 (+/- 0.23)\n",
      "F1:\t\t0.5492 (+/- 0.42)\n",
      "Precision:\t0.4701 (+/- 0.38)\n",
      "Recall:\t\t0.6800 (+/- 0.54)\n",
      "\n",
      "CV Runtime:\t0.1322 s\n"
     ]
    }
   ],
   "source": [
    "DT_1 = DecisionTreeClassifier(criterion='entropy', max_depth=5, random_state=44)\n",
    "\n",
    "train_and_eval_model(DT_1, X1_train, y1_train)\n",
    "\n",
    "DT_1.fit(X1_train, y1_train)\n",
    "\n",
    "test_preds = DT_1.predict(X1_test)"
   ]
  },
  {
   "cell_type": "code",
   "execution_count": 26,
   "id": "4863155c-f173-4465-9bb7-de0b25a2f656",
   "metadata": {},
   "outputs": [
    {
     "name": "stdout",
     "output_type": "stream",
     "text": [
      "              precision    recall  f1-score   support\n",
      "\n",
      "           0       0.67      0.73      0.70        22\n",
      "           1       0.62      0.56      0.59        18\n",
      "\n",
      "    accuracy                           0.65        40\n",
      "   macro avg       0.65      0.64      0.64        40\n",
      "weighted avg       0.65      0.65      0.65        40\n",
      "\n"
     ]
    }
   ],
   "source": [
    "print(classification_report(test_preds, y1_test))"
   ]
  },
  {
   "cell_type": "markdown",
   "id": "645b2b41-fb30-46ed-ad15-d94599645251",
   "metadata": {},
   "source": [
    "# OBSOLETE!!!! "
   ]
  },
  {
   "cell_type": "markdown",
   "id": "fb1d3297-3dc0-4e8a-9fdf-185c9a8890e4",
   "metadata": {},
   "source": [
    "### Discussion - Performance Metrics\n",
    "\n",
    "My decision tree model showed a test accuracy of 0.76 for how effectively is predicted whether a movie would be better or worse than \"PRETTY AWESOME\".\n",
    "\n",
    "The test precision was 0.58 , indicating that 58% of the movies that this model predicted would be \"PRETTY AWESOME\" or better, indeed were.\n",
    "\n",
    "The test recall was 0.65 , indicating that 65% of the movies that were \"PRETTY AWESOME\" or better, were guessed to be so.\n",
    "\n",
    "To speak of my own reactions and expectations, in a subjective manner:\n",
    "    - The test accuracy of 0.76 to me suggests a strong relationship between critics' ratings and my own, certainly enough that I will continue referencing them for my movie-going.\n",
    "    - The test precision of 0.58 does surprise me. To me, this suggests that movies that are critical smash hits might not fit my tastes as well as I thought. In my movie tastes, could I be... a contrarian??\n",
    "    - The test recall of 0.65 also strikes me as a low. It's bitter to think that if I magically had this model when I started this movie-journalling, and I used to solely determine which movies I attend, then I might've missed out on 35% of the substantially awesome flicks."
   ]
  },
  {
   "cell_type": "code",
   "execution_count": 27,
   "id": "dd25d371-940c-4b8f-a233-9656299f53e3",
   "metadata": {},
   "outputs": [
    {
     "data": {
      "text/plain": [
       "Index(['IMDB_Score', 'RT_Score', 'MetaC_Score', 'Ebert_Score'], dtype='object')"
      ]
     },
     "execution_count": 27,
     "metadata": {},
     "output_type": "execute_result"
    }
   ],
   "source": [
    "X1.columns"
   ]
  },
  {
   "cell_type": "code",
   "execution_count": 28,
   "id": "c87ff610-4516-4009-9779-be0bf9cf8834",
   "metadata": {},
   "outputs": [
    {
     "data": {
      "image/png": "[encoded data removed]",
      "text/plain": [
       "<Figure size 2000x1200 with 1 Axes>"
      ]
     },
     "metadata": {},
     "output_type": "display_data"
    }
   ],
   "source": [
    "plt.figure(figsize=(20,12))\n",
    "plot_tree(DT_1, feature_names=X1.columns, class_names=['Bad', 'Good'], fontsize=10)\n",
    "plt.show()"
   ]
  },
  {
   "cell_type": "markdown",
   "id": "564dc813-1c41-446f-ba10-99de5b077f98",
   "metadata": {},
   "source": [
    "## For Future Analysis\n",
    "### Analyzing the high-entropy, high-sample leaf node\n",
    "\n",
    "There is a leaf node with 40 samples and an entropy of 0.984 . Perhaps drilling down on this node's films might shed light on what additional information could improve the model. Is there a pattern here that might separate the fairly awesome films from the awe-less?"
   ]
  },
  {
   "cell_type": "code",
   "execution_count": 29,
   "id": "d645c933-850c-44c6-a1e6-dfdb21026fd3",
   "metadata": {},
   "outputs": [],
   "source": [
    "df['Rating'] = pd.Categorical(df['Rating'],\n",
    "                              categories=['GREAT', 'PRETTY AWESOME', 'AWESOME'],\n",
    "                              ordered=True)"
   ]
  },
  {
   "cell_type": "code",
   "execution_count": 30,
   "id": "994db4fe-9657-40d1-8bfb-eaac552a39dd",
   "metadata": {},
   "outputs": [
    {
     "data": {
      "text/html": [
       "<div>\n",
       "<style scoped>\n",
       "    .dataframe tbody tr th:only-of-type {\n",
       "        vertical-align: middle;\n",
       "    }\n",
       "\n",
       "    .dataframe tbody tr th {\n",
       "        vertical-align: top;\n",
       "    }\n",
       "\n",
       "    .dataframe thead th {\n",
       "        text-align: right;\n",
       "    }\n",
       "</style>\n",
       "<table border=\"1\" class=\"dataframe\">\n",
       "  <thead>\n",
       "    <tr style=\"text-align: right;\">\n",
       "      <th></th>\n",
       "      <th>Title</th>\n",
       "      <th>Year</th>\n",
       "      <th>Rating</th>\n",
       "      <th>IMDB_Score</th>\n",
       "      <th>RT_Score</th>\n",
       "      <th>MetaC_Score</th>\n",
       "      <th>Ebert_Score</th>\n",
       "      <th>anyAwesome</th>\n",
       "    </tr>\n",
       "    <tr>\n",
       "      <th>Movie_ID</th>\n",
       "      <th></th>\n",
       "      <th></th>\n",
       "      <th></th>\n",
       "      <th></th>\n",
       "      <th></th>\n",
       "      <th></th>\n",
       "      <th></th>\n",
       "      <th></th>\n",
       "    </tr>\n",
       "  </thead>\n",
       "  <tbody>\n",
       "    <tr>\n",
       "      <th>6</th>\n",
       "      <td>If Beale Street Could Talk</td>\n",
       "      <td>2018</td>\n",
       "      <td>AWESOME</td>\n",
       "      <td>0.71</td>\n",
       "      <td>0.95</td>\n",
       "      <td>0.87</td>\n",
       "      <td>4.0</td>\n",
       "      <td>1</td>\n",
       "    </tr>\n",
       "    <tr>\n",
       "      <th>86</th>\n",
       "      <td>The Teachers' Lounge</td>\n",
       "      <td>2023</td>\n",
       "      <td>AWESOME</td>\n",
       "      <td>0.74</td>\n",
       "      <td>0.96</td>\n",
       "      <td>0.82</td>\n",
       "      <td>3.5</td>\n",
       "      <td>1</td>\n",
       "    </tr>\n",
       "    <tr>\n",
       "      <th>216</th>\n",
       "      <td>Ex Machina</td>\n",
       "      <td>2014</td>\n",
       "      <td>AWESOME</td>\n",
       "      <td>0.77</td>\n",
       "      <td>0.92</td>\n",
       "      <td>0.78</td>\n",
       "      <td>4.0</td>\n",
       "      <td>1</td>\n",
       "    </tr>\n",
       "    <tr>\n",
       "      <th>191</th>\n",
       "      <td>Civil War</td>\n",
       "      <td>2024</td>\n",
       "      <td>AWESOME</td>\n",
       "      <td>0.70</td>\n",
       "      <td>0.81</td>\n",
       "      <td>0.75</td>\n",
       "      <td>4.0</td>\n",
       "      <td>1</td>\n",
       "    </tr>\n",
       "    <tr>\n",
       "      <th>190</th>\n",
       "      <td>Furiosa: A Mad Max Saga</td>\n",
       "      <td>2024</td>\n",
       "      <td>AWESOME</td>\n",
       "      <td>0.75</td>\n",
       "      <td>0.90</td>\n",
       "      <td>0.79</td>\n",
       "      <td>4.0</td>\n",
       "      <td>1</td>\n",
       "    </tr>\n",
       "    <tr>\n",
       "      <th>...</th>\n",
       "      <td>...</td>\n",
       "      <td>...</td>\n",
       "      <td>...</td>\n",
       "      <td>...</td>\n",
       "      <td>...</td>\n",
       "      <td>...</td>\n",
       "      <td>...</td>\n",
       "      <td>...</td>\n",
       "    </tr>\n",
       "    <tr>\n",
       "      <th>163</th>\n",
       "      <td>Crazy Rich Asians</td>\n",
       "      <td>2018</td>\n",
       "      <td>NaN</td>\n",
       "      <td>0.69</td>\n",
       "      <td>0.91</td>\n",
       "      <td>0.74</td>\n",
       "      <td>3.5</td>\n",
       "      <td>0</td>\n",
       "    </tr>\n",
       "    <tr>\n",
       "      <th>182</th>\n",
       "      <td>Under the Skin</td>\n",
       "      <td>2013</td>\n",
       "      <td>NaN</td>\n",
       "      <td>0.63</td>\n",
       "      <td>0.83</td>\n",
       "      <td>0.83</td>\n",
       "      <td>4.0</td>\n",
       "      <td>0</td>\n",
       "    </tr>\n",
       "    <tr>\n",
       "      <th>195</th>\n",
       "      <td>You Were Never Really Here</td>\n",
       "      <td>2017</td>\n",
       "      <td>NaN</td>\n",
       "      <td>0.67</td>\n",
       "      <td>0.89</td>\n",
       "      <td>0.84</td>\n",
       "      <td>4.0</td>\n",
       "      <td>0</td>\n",
       "    </tr>\n",
       "    <tr>\n",
       "      <th>197</th>\n",
       "      <td>Kimi</td>\n",
       "      <td>2022</td>\n",
       "      <td>NaN</td>\n",
       "      <td>0.63</td>\n",
       "      <td>0.92</td>\n",
       "      <td>0.79</td>\n",
       "      <td>3.5</td>\n",
       "      <td>0</td>\n",
       "    </tr>\n",
       "    <tr>\n",
       "      <th>198</th>\n",
       "      <td>Sisu</td>\n",
       "      <td>2022</td>\n",
       "      <td>NaN</td>\n",
       "      <td>0.69</td>\n",
       "      <td>0.94</td>\n",
       "      <td>0.70</td>\n",
       "      <td>3.5</td>\n",
       "      <td>0</td>\n",
       "    </tr>\n",
       "  </tbody>\n",
       "</table>\n",
       "<p>79 rows × 8 columns</p>\n",
       "</div>"
      ],
      "text/plain": [
       "                               Title  Year   Rating  IMDB_Score  RT_Score  \\\n",
       "Movie_ID                                                                    \n",
       "6         If Beale Street Could Talk  2018  AWESOME        0.71      0.95   \n",
       "86              The Teachers' Lounge  2023  AWESOME        0.74      0.96   \n",
       "216                       Ex Machina  2014  AWESOME        0.77      0.92   \n",
       "191                        Civil War  2024  AWESOME        0.70      0.81   \n",
       "190          Furiosa: A Mad Max Saga  2024  AWESOME        0.75      0.90   \n",
       "...                              ...   ...      ...         ...       ...   \n",
       "163                Crazy Rich Asians  2018      NaN        0.69      0.91   \n",
       "182                   Under the Skin  2013      NaN        0.63      0.83   \n",
       "195       You Were Never Really Here  2017      NaN        0.67      0.89   \n",
       "197                             Kimi  2022      NaN        0.63      0.92   \n",
       "198                             Sisu  2022      NaN        0.69      0.94   \n",
       "\n",
       "          MetaC_Score  Ebert_Score  anyAwesome  \n",
       "Movie_ID                                        \n",
       "6                0.87          4.0           1  \n",
       "86               0.82          3.5           1  \n",
       "216              0.78          4.0           1  \n",
       "191              0.75          4.0           1  \n",
       "190              0.79          4.0           1  \n",
       "...               ...          ...         ...  \n",
       "163              0.74          3.5           0  \n",
       "182              0.83          4.0           0  \n",
       "195              0.84          4.0           0  \n",
       "197              0.79          3.5           0  \n",
       "198              0.70          3.5           0  \n",
       "\n",
       "[79 rows x 8 columns]"
      ]
     },
     "execution_count": 30,
     "metadata": {},
     "output_type": "execute_result"
    }
   ],
   "source": [
    "df[(df['Ebert_Score'] > 3.25) & (df['MetaC_Score'] <= 0.885) & (df['RT_Score'] > 0.785) & (df['RT_Score'] <= 0.985) & (df['MetaC_Score'] > 0.69)].sort_values('Rating', ascending=False)"
   ]
  },
  {
   "cell_type": "markdown",
   "id": "397929c2-b46f-4436-bd51-3a4209294c87",
   "metadata": {},
   "source": [
    "### Takeaway: Add Genre data\n",
    "\n",
    "Though the pattern isn't striking, I wonder if I might be interpreting from this latest query's result disfavor for the romantic movies of this bunch.\n",
    "\n",
    "In the next notebook, I incorporate genre attributes and then retry the modeling."
   ]
  },
  {
   "cell_type": "markdown",
   "id": "dcdb0261-ee3c-4229-aea4-d0c5fa054f5b",
   "metadata": {},
   "source": [
    "## Save classifier to file"
   ]
  },
  {
   "cell_type": "code",
   "execution_count": 34,
   "id": "d61aa47c-518d-41e9-b513-621433f64c62",
   "metadata": {},
   "outputs": [],
   "source": [
    "curr_dir = os.getcwd()\n",
    "model_dir = output_dir_relpath + '/Models'\n",
    "os.makedirs(model_dir, exist_ok=True)\n",
    "\n",
    "pickled_clf_filename = '2_MyOwnRatings__DT.pickle'\n",
    "file_path = os.path.join(model_dir, pickled_clf_filename)\n",
    "\n",
    "with open(file_path, 'wb') as file:\n",
    "    pickle.dump(DT_1, file)"
   ]
  },
  {
   "cell_type": "code",
   "execution_count": null,
   "id": "7eef62c6-4788-4fd7-a095-1d14bae97375",
   "metadata": {},
   "outputs": [],
   "source": []
  }
 ],
 "metadata": {
  "kernelspec": {
   "display_name": "Python 3 (ipykernel)",
   "language": "python",
   "name": "python3"
  },
  "language_info": {
   "codemirror_mode": {
    "name": "ipython",
    "version": 3
   },
   "file_extension": ".py",
   "mimetype": "text/x-python",
   "name": "python",
   "nbconvert_exporter": "python",
   "pygments_lexer": "ipython3",
   "version": "3.12.3"
  }
 },
 "nbformat": 4,
 "nbformat_minor": 5
}
