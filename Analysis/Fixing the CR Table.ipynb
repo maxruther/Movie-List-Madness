{
 "cells": [
  {
   "cell_type": "markdown",
   "id": "eb6e2f29-9c1e-4bd1-bdd8-b0a2de10d78f",
   "metadata": {},
   "source": [
    "# Improving and Adding Review Score Data\n",
    "### Movie List Project - Notebook #1\n",
    "#### by Max Ruther"
   ]
  },
  {
   "cell_type": "markdown",
   "id": "f471e570-64c6-428a-ae17-90febbcf7a67",
   "metadata": {},
   "source": [
    "## Motivation and Overview"
   ]
  },
  {
   "cell_type": "markdown",
   "id": "20e263b0-df76-40ef-894b-50b4a4f52df1",
   "metadata": {},
   "source": [
    "One of my main interests for this Movie List project is to train models predicting my enjoyment of a given movie. Seeing the enjoyment of critics as promisingly predictive of my own, I created a _critic_ratings_ table in my MySQL Movie database. Upon initial construction, it features review scores from IMDb, Rotten Tomatoes, and Metacritic. However, some of its scores are erroneously missing. It also lacks scores from a favorite review site of mine, RogerEbert.com .\n",
    "\n",
    "### The Two Main Concerns\n",
    "\n",
    "These two issues with review scores make up the primary concerns of this notebook. In greater detail, these involve:\n",
    "\n",
    "1. Identifying, for each review site, (IMDb, Rotten Tomatoes, or Metacritic) which film records are missing review scores. If a review score is erroneously missing (as I determine in unshown online searches) add its true score to a mapping, ultimately used to correct those values in the table.\n",
    "\n",
    "2. Adding scores from a reviewer of interest not recorded in the OMDb.\n",
    "\n",
    "### Realized in the Project Code\n",
    "\n",
    "The code featured in this notebook comprises the various methods of my Python project's *RatingsTableMender* class, contained in my **critic_ratings.RatingsTableMender** package. The code is spread across the following modules, specifically:\n",
    "- *_map_missing_ratings.py*\n",
    "- *_reporting.py*\n",
    "- *_add_reviewers.py*\n",
    "- *_reviewer_mappings.py*\n"
   ]
  },
  {
   "cell_type": "markdown",
   "id": "9fc26fd4-cfa5-4a98-9739-653a09fbb5f1",
   "metadata": {},
   "source": [
    "## Setup\n",
    "\n",
    "##### Imports"
   ]
  },
  {
   "cell_type": "code",
   "execution_count": 1,
   "id": "12aeead7-f21a-4505-a546-612fdb500b5e",
   "metadata": {},
   "outputs": [],
   "source": [
    "import pandas as pd\n",
    "from sqlalchemy import create_engine"
   ]
  },
  {
   "cell_type": "markdown",
   "id": "78bc8532-8e38-406d-af3e-efba510bc2fa",
   "metadata": {},
   "source": [
    "I use pandas to manipulate the data. I use sqlalchemy to connect to my MySQL database and query the _critic_ratings_ table."
   ]
  },
  {
   "cell_type": "markdown",
   "id": "9daa4681-c164-4903-99fe-d0d633e7e866",
   "metadata": {},
   "source": [
    "##### Connect the SQLAlchemy engine to my local MySQL movie database"
   ]
  },
  {
   "cell_type": "code",
   "execution_count": 2,
   "id": "343374fd-c058-4e6a-b85f-22e1f50ed5e2",
   "metadata": {},
   "outputs": [],
   "source": [
    "# Read in my database's creds/URL from a file.\n",
    "movie_db_url = None\n",
    "with open('../.secret/movie_db_url.txt', 'r') as f:\n",
    "    movie_db_url = f.read().strip()\n",
    "\n",
    "# Connect to my MySQL movie database.\n",
    "engine = create_engine(movie_db_url)\n",
    "conn = engine.connect()"
   ]
  },
  {
   "cell_type": "markdown",
   "id": "b07efc2c-2d60-46fb-8bfc-a574f58a579e",
   "metadata": {},
   "source": [
    "## Missing Review Scores"
   ]
  },
  {
   "cell_type": "markdown",
   "id": "c37d1205-ae99-4b8b-a1f5-8bebf30166c8",
   "metadata": {},
   "source": [
    "### Metacritic\n",
    "\n",
    "OMDb seems particularly slow to update Metacritic scores."
   ]
  },
  {
   "cell_type": "markdown",
   "id": "de042248-5aa1-43ac-a180-7d4fddce38bd",
   "metadata": {},
   "source": [
    "#### Identify Missing Scores"
   ]
  },
  {
   "cell_type": "markdown",
   "id": "bb465490-3072-4e3e-8a98-fce6c63c7860",
   "metadata": {},
   "source": [
    "##### Querying the missing Metacritic reviews from the critic_ratings table"
   ]
  },
  {
   "cell_type": "code",
   "execution_count": 3,
   "id": "e7c3b074-424c-42f1-b84c-3c1caf63f816",
   "metadata": {},
   "outputs": [],
   "source": [
    "query = \"\"\"SELECT Movie_ID, Title FROM \n",
    "(SELECT c.Movie_ID, c.Title, c.Year, c.MetaC_Score, a.Release_Date \n",
    "FROM critic_ratings c INNER JOIN allmovies a \n",
    "ON c.Title=a.Title \n",
    "WHERE c.MetaC_Score IS NULL\n",
    "ORDER BY a.Release_Date ASC) AS tt;\"\"\"\n",
    "\n",
    "review_df = pd.read_sql_query(query, engine, index_col='Movie_ID')\n"
   ]
  },
  {
   "cell_type": "markdown",
   "id": "a5d7774f-9865-41a4-895f-87c4fe7234ac",
   "metadata": {},
   "source": [
    "##### Printing these in the format of a python dictionary literal\n",
    "This way, they are ready to be pasted into a Python statement, following my manual entry of the missing scores."
   ]
  },
  {
   "cell_type": "code",
   "execution_count": 4,
   "id": "97dd45ab-8342-4321-8b1d-4d6c617f9804",
   "metadata": {},
   "outputs": [
    {
     "name": "stdout",
     "output_type": "stream",
     "text": [
      "metacritic_mapping = {\n",
      "\t\"Salo\": ,\n",
      "\t\"The Ascent\": ,\n",
      "\t\"Troll 2\": ,\n",
      "\t\"Memories\": ,\n",
      "\t\"Air Bud\": ,\n",
      "\t\"Pokemon 2000\": ,\n",
      "\t\"Rampant\": ,\n",
      "\t\"Inspector Ike\": ,\n",
      "\t\"Nate - A One Man Show\": ,\n",
      "\t\"El Conde\": ,\n",
      "\t\"Outlaw Johnny Black\": ,\n",
      "\t\"Janet Planet\": ,\n",
      "\t\"Wingwomen\": ,\n",
      "\t\"Good One\": ,\n",
      "\t\"The People's Joker\": ,\n",
      "\t\"The Nature of Love\": ,\n",
      "\t\"Only the River Flows\": ,\n",
      "\t\"La Cocina\": ,\n",
      "\t\"Bird\": ,\n",
      "\t\"Hard Truths\": ,\n",
      "\t\"Striking Rescue\": ,\n",
      "\t\"Nickel Boys\": ,\n",
      "}\n"
     ]
    }
   ],
   "source": [
    "print(\"metacritic_mapping = {\")\n",
    "for i in review_df.values:\n",
    "    print(f'\\t\"{i[0]}\": ,')\n",
    "print(\"}\")"
   ]
  },
  {
   "cell_type": "markdown",
   "id": "8c8a437d-9aae-4e7c-bbd5-7f8955550710",
   "metadata": {},
   "source": [
    "#### Correct Erroneously Missing Scores"
   ]
  },
  {
   "cell_type": "markdown",
   "id": "3e826788-67ad-4c85-8980-30f4a50f6f40",
   "metadata": {},
   "source": [
    "##### Creating the mapping for the missing reviews\n",
    "Commented out at the top of the mapping are films that lack Metacritic review scores and will probably never be scored.\n",
    "\n",
    "Commented out at the bottom of the mapping are films that erroneously lacks a review score **but have only just come out.** In such cases, I hold off on including them in this mapping, until more Metacritic reviews come in to form a larger sample base for their scores. (The *MetaC_Score* in my database is the Metacritic aggregate score.)"
   ]
  },
  {
   "cell_type": "code",
   "execution_count": 5,
   "id": "50a92bab-dc6b-4718-b618-a6a0f8a9a608",
   "metadata": {},
   "outputs": [],
   "source": [
    "metacritic_mapping = {\n",
    "    # \"Salo\": ,\n",
    "\t# \"The Ascent\": ,\n",
    "\t# \"Troll 2\": ,\n",
    "\t# \"Memories\": ,\n",
    "\t# \"Air Bud\": ,\n",
    "\t# \"Rampant\": ,\n",
    "\t# \"Nate - A One Man Show\": ,\n",
    "\t# \"Inspector Ike\": ,\n",
    "\t# \"Sirocco and the Kingdom of the Winds\": ,\n",
    "\t\"Pokemon 2000\": 0.28,\n",
    "\t\"Hundreds of Beavers\": 0.82,\n",
    "\t\"The Holdovers\": 0.82,\n",
    "    \"The Wonderful Story of Henry Sugar\": 0.85,\n",
    "    \"El Conde\": 0.72,\n",
    "    \"American Fiction\": 0.81,\n",
    "\t\"Quiz Lady\": 0.59,\n",
    "\t\"Sing Sing\": 0.84,\n",
    "\t\"Outlaw Johnny Black\": 0.54,\n",
    "    \"Janet Planet\": 0.83,\n",
    "    \"Wingwomen\": 0.54,\n",
    "    \"Saltburn\": 0.61,\n",
    "\t\"Silent Night\": 0.53,\n",
    "\t\"The Boy and the Heron\": 0.91,\n",
    "\t\"All of Us Strangers\": 0.9,\n",
    "\t\"Society of the Snow\": 0.72,\n",
    "\t\"Migration\": 0.56,\n",
    "\t\"The Teachers' Lounge\": 0.82,\n",
    "\t\"Good One\": 0.87,\n",
    "\t\"Godzilla Minus One\": 0.81,\n",
    "\t\"Upgraded\": 0.59,\n",
    "\t\"Molli and Max in the Future\": 0.7,\n",
    "\t\"Drive-Away Dolls\": 0.56,\n",
    "\t\"Love Lies Bleeding\": 0.77,\n",
    "\t\"Do Not Expect Too Much from the End of the World\": 0.95,\n",
    "    \"The Beast\": 0.8,\n",
    "    \"Civil War\": 0.75,\n",
    "    \"Challengers\": 0.82,\n",
    "\t\"Slow\": 0.72,\n",
    "\t\"Evil Does Not Exist\": 0.83,\n",
    "\t\"Gasoline Rainbow\": 0.8,\n",
    "    \"Babes\": 0.71,\n",
    "    \"Furiosa: A Mad Max Saga\": 0.79,\n",
    "    \"I Used to Be Funny\": 0.74,\n",
    "    \"Ghostlight\": 0.83,\n",
    "    \"Thelma\": 0.77,\n",
    "\t\"The Nature of Love\": 0.8,\n",
    "\t\"Oddity\": 0.78,\n",
    "\t\"Only the River Flows\": 0.7,\n",
    "\t\"His Three Daughters\": 0.84,\n",
    "    \"La Cocina\": 0.75,\n",
    "\t\"Bird\": 0.74,\n",
    "\t\"Hard Truths\": 0.88,\n",
    "\t\"Nickel Boys\": 0.91,\n",
    "    \"The People's Joker\": 0.78,\n",
    "}"
   ]
  },
  {
   "cell_type": "markdown",
   "id": "4b67ad06-aae8-4ec0-9ab3-c229a532a872",
   "metadata": {},
   "source": [
    "##### Import the **entire** _critic_ratings_ table into a df, from the MySQL db."
   ]
  },
  {
   "cell_type": "code",
   "execution_count": 6,
   "id": "8155de39-d121-4344-a401-1e43cd16431a",
   "metadata": {
    "scrolled": true
   },
   "outputs": [
    {
     "data": {
      "text/html": [
       "<div>\n",
       "<style scoped>\n",
       "    .dataframe tbody tr th:only-of-type {\n",
       "        vertical-align: middle;\n",
       "    }\n",
       "\n",
       "    .dataframe tbody tr th {\n",
       "        vertical-align: top;\n",
       "    }\n",
       "\n",
       "    .dataframe thead th {\n",
       "        text-align: right;\n",
       "    }\n",
       "</style>\n",
       "<table border=\"1\" class=\"dataframe\">\n",
       "  <thead>\n",
       "    <tr style=\"text-align: right;\">\n",
       "      <th></th>\n",
       "      <th>Title</th>\n",
       "      <th>Year</th>\n",
       "      <th>IMDB_Score</th>\n",
       "      <th>RT_Score</th>\n",
       "      <th>MetaC_Score</th>\n",
       "    </tr>\n",
       "    <tr>\n",
       "      <th>Movie_ID</th>\n",
       "      <th></th>\n",
       "      <th></th>\n",
       "      <th></th>\n",
       "      <th></th>\n",
       "      <th></th>\n",
       "    </tr>\n",
       "  </thead>\n",
       "  <tbody>\n",
       "    <tr>\n",
       "      <th>1</th>\n",
       "      <td>Nickel Boys</td>\n",
       "      <td>2024</td>\n",
       "      <td>0.76</td>\n",
       "      <td>0.90</td>\n",
       "      <td>NaN</td>\n",
       "    </tr>\n",
       "    <tr>\n",
       "      <th>2</th>\n",
       "      <td>The Brutalist</td>\n",
       "      <td>2024</td>\n",
       "      <td>0.81</td>\n",
       "      <td>0.93</td>\n",
       "      <td>0.91</td>\n",
       "    </tr>\n",
       "    <tr>\n",
       "      <th>3</th>\n",
       "      <td>Hard Truths</td>\n",
       "      <td>2024</td>\n",
       "      <td>0.74</td>\n",
       "      <td>0.94</td>\n",
       "      <td>NaN</td>\n",
       "    </tr>\n",
       "    <tr>\n",
       "      <th>4</th>\n",
       "      <td>Vermiglio</td>\n",
       "      <td>2024</td>\n",
       "      <td>0.72</td>\n",
       "      <td>0.94</td>\n",
       "      <td>0.80</td>\n",
       "    </tr>\n",
       "    <tr>\n",
       "      <th>5</th>\n",
       "      <td>Wallace &amp; Gromit: Vengeance Most Fowl</td>\n",
       "      <td>2024</td>\n",
       "      <td>0.79</td>\n",
       "      <td>1.00</td>\n",
       "      <td>0.82</td>\n",
       "    </tr>\n",
       "  </tbody>\n",
       "</table>\n",
       "</div>"
      ],
      "text/plain": [
       "                                          Title  Year  IMDB_Score  RT_Score  \\\n",
       "Movie_ID                                                                      \n",
       "1                                   Nickel Boys  2024        0.76      0.90   \n",
       "2                                 The Brutalist  2024        0.81      0.93   \n",
       "3                                   Hard Truths  2024        0.74      0.94   \n",
       "4                                     Vermiglio  2024        0.72      0.94   \n",
       "5         Wallace & Gromit: Vengeance Most Fowl  2024        0.79      1.00   \n",
       "\n",
       "          MetaC_Score  \n",
       "Movie_ID               \n",
       "1                 NaN  \n",
       "2                0.91  \n",
       "3                 NaN  \n",
       "4                0.80  \n",
       "5                0.82  "
      ]
     },
     "execution_count": 6,
     "metadata": {},
     "output_type": "execute_result"
    }
   ],
   "source": [
    "query = \"SELECT * FROM critic_ratings\"\n",
    "\n",
    "cr_df = pd.read_sql_query(query, engine, index_col='Movie_ID')\n",
    "cr_df.head(5)"
   ]
  },
  {
   "cell_type": "markdown",
   "id": "a836df17-70a4-43d2-a5f0-d4bd2181ff46",
   "metadata": {},
   "source": [
    "##### Applying the mapping to the missing reviews."
   ]
  },
  {
   "cell_type": "code",
   "execution_count": 7,
   "id": "7ff59785-f73c-4cb3-a288-61b5c518b89d",
   "metadata": {},
   "outputs": [
    {
     "data": {
      "text/html": [
       "<div>\n",
       "<style scoped>\n",
       "    .dataframe tbody tr th:only-of-type {\n",
       "        vertical-align: middle;\n",
       "    }\n",
       "\n",
       "    .dataframe tbody tr th {\n",
       "        vertical-align: top;\n",
       "    }\n",
       "\n",
       "    .dataframe thead th {\n",
       "        text-align: right;\n",
       "    }\n",
       "</style>\n",
       "<table border=\"1\" class=\"dataframe\">\n",
       "  <thead>\n",
       "    <tr style=\"text-align: right;\">\n",
       "      <th></th>\n",
       "      <th>Title</th>\n",
       "      <th>Year</th>\n",
       "      <th>IMDB_Score</th>\n",
       "      <th>RT_Score</th>\n",
       "      <th>MetaC_Score</th>\n",
       "    </tr>\n",
       "    <tr>\n",
       "      <th>Movie_ID</th>\n",
       "      <th></th>\n",
       "      <th></th>\n",
       "      <th></th>\n",
       "      <th></th>\n",
       "      <th></th>\n",
       "    </tr>\n",
       "  </thead>\n",
       "  <tbody>\n",
       "    <tr>\n",
       "      <th>1</th>\n",
       "      <td>Nickel Boys</td>\n",
       "      <td>2024</td>\n",
       "      <td>0.76</td>\n",
       "      <td>0.90</td>\n",
       "      <td>0.91</td>\n",
       "    </tr>\n",
       "    <tr>\n",
       "      <th>2</th>\n",
       "      <td>The Brutalist</td>\n",
       "      <td>2024</td>\n",
       "      <td>0.81</td>\n",
       "      <td>0.93</td>\n",
       "      <td>0.91</td>\n",
       "    </tr>\n",
       "    <tr>\n",
       "      <th>3</th>\n",
       "      <td>Hard Truths</td>\n",
       "      <td>2024</td>\n",
       "      <td>0.74</td>\n",
       "      <td>0.94</td>\n",
       "      <td>0.88</td>\n",
       "    </tr>\n",
       "    <tr>\n",
       "      <th>4</th>\n",
       "      <td>Vermiglio</td>\n",
       "      <td>2024</td>\n",
       "      <td>0.72</td>\n",
       "      <td>0.94</td>\n",
       "      <td>0.80</td>\n",
       "    </tr>\n",
       "    <tr>\n",
       "      <th>5</th>\n",
       "      <td>Wallace &amp; Gromit: Vengeance Most Fowl</td>\n",
       "      <td>2024</td>\n",
       "      <td>0.79</td>\n",
       "      <td>1.00</td>\n",
       "      <td>0.82</td>\n",
       "    </tr>\n",
       "  </tbody>\n",
       "</table>\n",
       "</div>"
      ],
      "text/plain": [
       "                                          Title  Year  IMDB_Score  RT_Score  \\\n",
       "Movie_ID                                                                      \n",
       "1                                   Nickel Boys  2024        0.76      0.90   \n",
       "2                                 The Brutalist  2024        0.81      0.93   \n",
       "3                                   Hard Truths  2024        0.74      0.94   \n",
       "4                                     Vermiglio  2024        0.72      0.94   \n",
       "5         Wallace & Gromit: Vengeance Most Fowl  2024        0.79      1.00   \n",
       "\n",
       "          MetaC_Score  \n",
       "Movie_ID               \n",
       "1                0.91  \n",
       "2                0.91  \n",
       "3                0.88  \n",
       "4                0.80  \n",
       "5                0.82  "
      ]
     },
     "execution_count": 7,
     "metadata": {},
     "output_type": "execute_result"
    }
   ],
   "source": [
    "cr_df['MetaC_Score'] = cr_df['MetaC_Score'].fillna(cr_df['Title'].map(metacritic_mapping))\n",
    "cr_df.head(5)"
   ]
  },
  {
   "cell_type": "markdown",
   "id": "9c9c12d4-a2e0-47d2-8a06-ce8cae2b2f81",
   "metadata": {},
   "source": [
    "If a film's title is featured in the mapping but it **isn't** missing a review score, then it won't be affected by this mapping. This is an important detail because scores from the _critic_ratings_ table are often updated to no longer be missing. Such values shouldn't be overwritten by this mapping, as this is meant solely to correct **missing** values."
   ]
  },
  {
   "cell_type": "markdown",
   "id": "ae16b085-73b5-45b3-b597-c48afde029a7",
   "metadata": {},
   "source": [
    "##### Load this amended table to the MySQL db, replacing the preexisting one."
   ]
  },
  {
   "cell_type": "code",
   "execution_count": 8,
   "id": "45d6f4c8-ba22-4efa-822e-008129b0146a",
   "metadata": {
    "scrolled": true
   },
   "outputs": [
    {
     "data": {
      "text/plain": [
       "289"
      ]
     },
     "execution_count": 8,
     "metadata": {},
     "output_type": "execute_result"
    }
   ],
   "source": [
    "cr_df.to_sql('critic_ratings', engine, if_exists='replace', index=True)"
   ]
  },
  {
   "cell_type": "markdown",
   "id": "2c55341b-5b37-4c43-b113-6b3aa4e2e8b4",
   "metadata": {},
   "source": [
    "### Rotten Tomatoes"
   ]
  },
  {
   "cell_type": "markdown",
   "id": "d9ce2013-371c-415f-9a5e-033c4db8372c",
   "metadata": {},
   "source": [
    "#### Identify Missing Scores"
   ]
  },
  {
   "cell_type": "markdown",
   "id": "a2607c18-43dd-43fa-bee5-f15a97945fcb",
   "metadata": {},
   "source": [
    "##### Querying the missing RT reviews from the critic_ratings table"
   ]
  },
  {
   "cell_type": "code",
   "execution_count": 9,
   "id": "caba33eb-66e5-400d-a9d6-71c3d53ca981",
   "metadata": {},
   "outputs": [],
   "source": [
    "query = \"\"\"SELECT Movie_ID, Title FROM\n",
    "(SELECT c.Movie_ID, c.Title, c.Year, c.RT_Score, a.Release_Date \n",
    "FROM critic_ratings c INNER JOIN allmovies a ON c.Title=a.Title\n",
    "WHERE c.RT_Score IS NULL\n",
    "ORDER BY a.Release_Date ASC) AS tt;\"\"\"\n",
    "\n",
    "missing_RT_df = pd.read_sql_query(query, engine, index_col='Movie_ID')"
   ]
  },
  {
   "cell_type": "markdown",
   "id": "72849b38-4d2a-4435-9969-0ff1b71eb930",
   "metadata": {},
   "source": [
    "##### Printing these film titles in the format of a python dictionary, ready for my manual data entry."
   ]
  },
  {
   "cell_type": "code",
   "execution_count": 10,
   "id": "e35f3441-b003-44f2-b800-77c0ef13ade1",
   "metadata": {},
   "outputs": [
    {
     "name": "stdout",
     "output_type": "stream",
     "text": [
      "rt_mapping = {\n",
      "\t\"Memories\": ,\n",
      "\t\"Pokemon 2000\": ,\n",
      "\t\"Possessor\": ,\n",
      "\t\"The Card Counter\": ,\n",
      "\t\"TÃ¡r\": ,\n",
      "\t\"Suzume\": ,\n",
      "\t\"Talk to Me\": ,\n",
      "\t\"Sirocco and the Kingdom of the Winds\": ,\n",
      "\t\"Striking Rescue\": ,\n",
      "}\n"
     ]
    }
   ],
   "source": [
    "print(\"rt_mapping\" +\n",
    "              \" = {\")\n",
    "for i in missing_RT_df.values:\n",
    "    print(f'\\t\"{i[0]}\": ,')\n",
    "print(\"}\")"
   ]
  },
  {
   "cell_type": "markdown",
   "id": "f81d57b6-446e-43cc-ac76-a6f9b7a1dddd",
   "metadata": {},
   "source": [
    "#### Correct Erroneously Missing Scores"
   ]
  },
  {
   "cell_type": "markdown",
   "id": "ed7a273a-8ec2-4083-8728-c99b24eedb10",
   "metadata": {},
   "source": [
    "##### Create the mapping for the missing reviews"
   ]
  },
  {
   "cell_type": "code",
   "execution_count": 11,
   "id": "b3637fac-5ba5-47e8-8018-daa033e281da",
   "metadata": {},
   "outputs": [],
   "source": [
    "rt_mapping = {\n",
    "    # The following commented-out film indeed lacks a Rotten Tomatoes review.\n",
    "    # \"Memories\": ,\n",
    "    # \"Sirocco and the Kingdom of the Winds\": ,\n",
    "    \"Pokemon 2000\": 0.19,\n",
    "    \"Possessor\": 0.94,\n",
    "    \"The Card Counter\": 0.87,\n",
    "    \"TÃ¡r\": 0.91, # This is Tár, starring Cate Blanchett\n",
    "    \"Suzume\": 0.96,\n",
    "    \"Talk to Me\": 0.94,\n",
    "}"
   ]
  },
  {
   "cell_type": "markdown",
   "id": "22be6aef-e575-4513-9c45-cb38b0757144",
   "metadata": {},
   "source": [
    "##### (If preceding sections weren't run, importing the _critic_ratings_ table from the MySQL db)"
   ]
  },
  {
   "cell_type": "code",
   "execution_count": 12,
   "id": "a20e6f0a-a606-42e9-9bb7-e6e4919beed5",
   "metadata": {},
   "outputs": [],
   "source": [
    "if 'cr_df' not in locals() or 'cr_df' not in globals():\n",
    "    query = \"SELECT * FROM critic_ratings\"\n",
    "    cr_df = pd.read_sql_query(query, engine, index_col='Movie_ID')\n",
    "    cr_df.head(5)"
   ]
  },
  {
   "cell_type": "markdown",
   "id": "704ef3c7-b081-458c-af80-0e39c08cfb58",
   "metadata": {},
   "source": [
    "##### Print the records that lack Rotten Tomatoes scores"
   ]
  },
  {
   "cell_type": "code",
   "execution_count": 13,
   "id": "a81fae2f-cd58-4cfd-820f-3aa76cc6af51",
   "metadata": {},
   "outputs": [
    {
     "data": {
      "text/html": [
       "<div>\n",
       "<style scoped>\n",
       "    .dataframe tbody tr th:only-of-type {\n",
       "        vertical-align: middle;\n",
       "    }\n",
       "\n",
       "    .dataframe tbody tr th {\n",
       "        vertical-align: top;\n",
       "    }\n",
       "\n",
       "    .dataframe thead th {\n",
       "        text-align: right;\n",
       "    }\n",
       "</style>\n",
       "<table border=\"1\" class=\"dataframe\">\n",
       "  <thead>\n",
       "    <tr style=\"text-align: right;\">\n",
       "      <th></th>\n",
       "      <th>Title</th>\n",
       "      <th>Year</th>\n",
       "      <th>IMDB_Score</th>\n",
       "      <th>RT_Score</th>\n",
       "      <th>MetaC_Score</th>\n",
       "    </tr>\n",
       "    <tr>\n",
       "      <th>Movie_ID</th>\n",
       "      <th></th>\n",
       "      <th></th>\n",
       "      <th></th>\n",
       "      <th></th>\n",
       "      <th></th>\n",
       "    </tr>\n",
       "  </thead>\n",
       "  <tbody>\n",
       "    <tr>\n",
       "      <th>24</th>\n",
       "      <td>Suzume</td>\n",
       "      <td>2022</td>\n",
       "      <td>0.76</td>\n",
       "      <td>NaN</td>\n",
       "      <td>0.77</td>\n",
       "    </tr>\n",
       "    <tr>\n",
       "      <th>99</th>\n",
       "      <td>TÃ¡r</td>\n",
       "      <td>2022</td>\n",
       "      <td>0.74</td>\n",
       "      <td>NaN</td>\n",
       "      <td>0.93</td>\n",
       "    </tr>\n",
       "    <tr>\n",
       "      <th>108</th>\n",
       "      <td>The Card Counter</td>\n",
       "      <td>2021</td>\n",
       "      <td>0.62</td>\n",
       "      <td>NaN</td>\n",
       "      <td>0.78</td>\n",
       "    </tr>\n",
       "    <tr>\n",
       "      <th>178</th>\n",
       "      <td>Talk to Me</td>\n",
       "      <td>2022</td>\n",
       "      <td>0.71</td>\n",
       "      <td>NaN</td>\n",
       "      <td>0.76</td>\n",
       "    </tr>\n",
       "    <tr>\n",
       "      <th>184</th>\n",
       "      <td>Possessor</td>\n",
       "      <td>2020</td>\n",
       "      <td>0.65</td>\n",
       "      <td>NaN</td>\n",
       "      <td>0.72</td>\n",
       "    </tr>\n",
       "    <tr>\n",
       "      <th>186</th>\n",
       "      <td>Striking Rescue</td>\n",
       "      <td>2024</td>\n",
       "      <td>NaN</td>\n",
       "      <td>NaN</td>\n",
       "      <td>NaN</td>\n",
       "    </tr>\n",
       "    <tr>\n",
       "      <th>202</th>\n",
       "      <td>Sirocco and the Kingdom of the Winds</td>\n",
       "      <td>2023</td>\n",
       "      <td>0.71</td>\n",
       "      <td>NaN</td>\n",
       "      <td>0.83</td>\n",
       "    </tr>\n",
       "    <tr>\n",
       "      <th>209</th>\n",
       "      <td>Pokemon 2000</td>\n",
       "      <td>2000</td>\n",
       "      <td>0.75</td>\n",
       "      <td>NaN</td>\n",
       "      <td>0.28</td>\n",
       "    </tr>\n",
       "    <tr>\n",
       "      <th>225</th>\n",
       "      <td>Memories</td>\n",
       "      <td>1995</td>\n",
       "      <td>0.75</td>\n",
       "      <td>NaN</td>\n",
       "      <td>NaN</td>\n",
       "    </tr>\n",
       "  </tbody>\n",
       "</table>\n",
       "</div>"
      ],
      "text/plain": [
       "                                         Title  Year  IMDB_Score  RT_Score  \\\n",
       "Movie_ID                                                                     \n",
       "24                                      Suzume  2022        0.76       NaN   \n",
       "99                                        TÃ¡r  2022        0.74       NaN   \n",
       "108                           The Card Counter  2021        0.62       NaN   \n",
       "178                                 Talk to Me  2022        0.71       NaN   \n",
       "184                                  Possessor  2020        0.65       NaN   \n",
       "186                            Striking Rescue  2024         NaN       NaN   \n",
       "202       Sirocco and the Kingdom of the Winds  2023        0.71       NaN   \n",
       "209                               Pokemon 2000  2000        0.75       NaN   \n",
       "225                                   Memories  1995        0.75       NaN   \n",
       "\n",
       "          MetaC_Score  \n",
       "Movie_ID               \n",
       "24               0.77  \n",
       "99               0.93  \n",
       "108              0.78  \n",
       "178              0.76  \n",
       "184              0.72  \n",
       "186               NaN  \n",
       "202              0.83  \n",
       "209              0.28  \n",
       "225               NaN  "
      ]
     },
     "execution_count": 13,
     "metadata": {},
     "output_type": "execute_result"
    }
   ],
   "source": [
    "# Printing the records with missing 'RT_Score'\n",
    "missing_rt_mask = cr_df['RT_Score'].isnull()\n",
    "cr_df[missing_rt_mask]"
   ]
  },
  {
   "cell_type": "markdown",
   "id": "3554898d-eb18-4ada-9ab1-f8c6e51bbd12",
   "metadata": {},
   "source": [
    "##### Applying mapping to the missing reviews"
   ]
  },
  {
   "cell_type": "code",
   "execution_count": 14,
   "id": "91d301ed-4ae0-43b4-8d6d-9192530bfb5e",
   "metadata": {},
   "outputs": [
    {
     "data": {
      "text/html": [
       "<div>\n",
       "<style scoped>\n",
       "    .dataframe tbody tr th:only-of-type {\n",
       "        vertical-align: middle;\n",
       "    }\n",
       "\n",
       "    .dataframe tbody tr th {\n",
       "        vertical-align: top;\n",
       "    }\n",
       "\n",
       "    .dataframe thead th {\n",
       "        text-align: right;\n",
       "    }\n",
       "</style>\n",
       "<table border=\"1\" class=\"dataframe\">\n",
       "  <thead>\n",
       "    <tr style=\"text-align: right;\">\n",
       "      <th></th>\n",
       "      <th>Title</th>\n",
       "      <th>Year</th>\n",
       "      <th>IMDB_Score</th>\n",
       "      <th>RT_Score</th>\n",
       "      <th>MetaC_Score</th>\n",
       "    </tr>\n",
       "    <tr>\n",
       "      <th>Movie_ID</th>\n",
       "      <th></th>\n",
       "      <th></th>\n",
       "      <th></th>\n",
       "      <th></th>\n",
       "      <th></th>\n",
       "    </tr>\n",
       "  </thead>\n",
       "  <tbody>\n",
       "    <tr>\n",
       "      <th>24</th>\n",
       "      <td>Suzume</td>\n",
       "      <td>2022</td>\n",
       "      <td>0.76</td>\n",
       "      <td>0.96</td>\n",
       "      <td>0.77</td>\n",
       "    </tr>\n",
       "    <tr>\n",
       "      <th>99</th>\n",
       "      <td>TÃ¡r</td>\n",
       "      <td>2022</td>\n",
       "      <td>0.74</td>\n",
       "      <td>0.91</td>\n",
       "      <td>0.93</td>\n",
       "    </tr>\n",
       "    <tr>\n",
       "      <th>108</th>\n",
       "      <td>The Card Counter</td>\n",
       "      <td>2021</td>\n",
       "      <td>0.62</td>\n",
       "      <td>0.87</td>\n",
       "      <td>0.78</td>\n",
       "    </tr>\n",
       "    <tr>\n",
       "      <th>178</th>\n",
       "      <td>Talk to Me</td>\n",
       "      <td>2022</td>\n",
       "      <td>0.71</td>\n",
       "      <td>0.94</td>\n",
       "      <td>0.76</td>\n",
       "    </tr>\n",
       "    <tr>\n",
       "      <th>184</th>\n",
       "      <td>Possessor</td>\n",
       "      <td>2020</td>\n",
       "      <td>0.65</td>\n",
       "      <td>0.94</td>\n",
       "      <td>0.72</td>\n",
       "    </tr>\n",
       "    <tr>\n",
       "      <th>186</th>\n",
       "      <td>Striking Rescue</td>\n",
       "      <td>2024</td>\n",
       "      <td>NaN</td>\n",
       "      <td>NaN</td>\n",
       "      <td>NaN</td>\n",
       "    </tr>\n",
       "    <tr>\n",
       "      <th>202</th>\n",
       "      <td>Sirocco and the Kingdom of the Winds</td>\n",
       "      <td>2023</td>\n",
       "      <td>0.71</td>\n",
       "      <td>NaN</td>\n",
       "      <td>0.83</td>\n",
       "    </tr>\n",
       "    <tr>\n",
       "      <th>209</th>\n",
       "      <td>Pokemon 2000</td>\n",
       "      <td>2000</td>\n",
       "      <td>0.75</td>\n",
       "      <td>0.19</td>\n",
       "      <td>0.28</td>\n",
       "    </tr>\n",
       "    <tr>\n",
       "      <th>225</th>\n",
       "      <td>Memories</td>\n",
       "      <td>1995</td>\n",
       "      <td>0.75</td>\n",
       "      <td>NaN</td>\n",
       "      <td>NaN</td>\n",
       "    </tr>\n",
       "  </tbody>\n",
       "</table>\n",
       "</div>"
      ],
      "text/plain": [
       "                                         Title  Year  IMDB_Score  RT_Score  \\\n",
       "Movie_ID                                                                     \n",
       "24                                      Suzume  2022        0.76      0.96   \n",
       "99                                        TÃ¡r  2022        0.74      0.91   \n",
       "108                           The Card Counter  2021        0.62      0.87   \n",
       "178                                 Talk to Me  2022        0.71      0.94   \n",
       "184                                  Possessor  2020        0.65      0.94   \n",
       "186                            Striking Rescue  2024         NaN       NaN   \n",
       "202       Sirocco and the Kingdom of the Winds  2023        0.71       NaN   \n",
       "209                               Pokemon 2000  2000        0.75      0.19   \n",
       "225                                   Memories  1995        0.75       NaN   \n",
       "\n",
       "          MetaC_Score  \n",
       "Movie_ID               \n",
       "24               0.77  \n",
       "99               0.93  \n",
       "108              0.78  \n",
       "178              0.76  \n",
       "184              0.72  \n",
       "186               NaN  \n",
       "202              0.83  \n",
       "209              0.28  \n",
       "225               NaN  "
      ]
     },
     "execution_count": 14,
     "metadata": {},
     "output_type": "execute_result"
    }
   ],
   "source": [
    "cr_df['RT_Score'] = cr_df['RT_Score'].fillna(cr_df['Title'].map(rt_mapping))\n",
    "cr_df[missing_rt_mask]"
   ]
  },
  {
   "cell_type": "markdown",
   "id": "d06639d0-fb81-4350-9457-cfb2de111013",
   "metadata": {},
   "source": [
    "##### Loading this amended table to the MySQL db, replacing the preexisting one."
   ]
  },
  {
   "cell_type": "code",
   "execution_count": 15,
   "id": "73b7dc36-229a-413c-8e88-77e48a7b5ca0",
   "metadata": {
    "scrolled": true
   },
   "outputs": [
    {
     "data": {
      "text/plain": [
       "289"
      ]
     },
     "execution_count": 15,
     "metadata": {},
     "output_type": "execute_result"
    }
   ],
   "source": [
    "cr_df.to_sql('critic_ratings', engine, if_exists='replace', index=True)"
   ]
  },
  {
   "cell_type": "markdown",
   "id": "61ca2202-13d8-4eb5-b00b-cb6d2722a650",
   "metadata": {},
   "source": [
    "### IMDb"
   ]
  },
  {
   "cell_type": "markdown",
   "id": "58ff3607-fc87-4ee6-876b-68c5a4eab5bf",
   "metadata": {},
   "source": [
    "#### Identify Missing Scores"
   ]
  },
  {
   "cell_type": "markdown",
   "id": "2830515b-58f1-441c-86d3-a2ca3a89edd5",
   "metadata": {},
   "source": [
    "##### Querying the missing RT reviews from the critic_ratings table"
   ]
  },
  {
   "cell_type": "code",
   "execution_count": 16,
   "id": "b1dfe611-e883-4b78-a155-f36c7fb222a8",
   "metadata": {},
   "outputs": [],
   "source": [
    "query = \"\"\"SELECT Movie_ID, Title FROM\n",
    "(SELECT c.Movie_ID, c.Title, c.Year, c.IMDB_Score, a.Release_Date \n",
    "FROM critic_ratings c INNER JOIN allmovies a ON c.Title=a.Title\n",
    "WHERE c.IMDB_Score IS NULL\n",
    "ORDER BY a.Release_Date ASC) AS tt;\"\"\"\n",
    "\n",
    "missing_imdb_df = pd.read_sql_query(query, engine, index_col='Movie_ID')\n"
   ]
  },
  {
   "cell_type": "markdown",
   "id": "d0c0dca2-eb90-4169-a2f1-48d8d6ff4164",
   "metadata": {},
   "source": [
    "##### Printing these film titles in the format of a python dictionary, ready for my manual data entry."
   ]
  },
  {
   "cell_type": "code",
   "execution_count": 17,
   "id": "1698eba8-c050-4294-8e7f-ed29ce0c4441",
   "metadata": {},
   "outputs": [
    {
     "name": "stdout",
     "output_type": "stream",
     "text": [
      "imdb_mapping = {\n",
      "\t\"Striking Rescue\": ,\n",
      "}\n"
     ]
    }
   ],
   "source": [
    "print(\"imdb_mapping\" +\n",
    "              \" = {\")\n",
    "for i in missing_imdb_df.values:\n",
    "    print(f'\\t\"{i[0]}\": ,')\n",
    "print(\"}\")"
   ]
  },
  {
   "cell_type": "markdown",
   "id": "ce138fce-aa83-48f8-9181-f96b55fab581",
   "metadata": {},
   "source": [
    "#### Correct Erroneously Missing Scores"
   ]
  },
  {
   "cell_type": "markdown",
   "id": "9812431b-4eb6-4c01-97a5-50cd3680f1b3",
   "metadata": {},
   "source": [
    "##### Create the mapping for the missing reviews"
   ]
  },
  {
   "cell_type": "code",
   "execution_count": 18,
   "id": "95f6d34e-08aa-49ab-86e3-dc95d8660930",
   "metadata": {},
   "outputs": [],
   "source": [
    "imdb_mapping = {\n",
    "\t\"Sirocco and the Kingdom of the Winds\": 0.71,\n",
    "\t\"His Three Daughters\": 0.76,\n",
    "}"
   ]
  },
  {
   "cell_type": "markdown",
   "id": "b80b6cde-617e-48dc-8c3a-caa98916a7ea",
   "metadata": {},
   "source": [
    "##### (If preceding sections weren't run, importing the _critic_ratings_ table from the MySQL db)"
   ]
  },
  {
   "cell_type": "code",
   "execution_count": 19,
   "id": "23599002-e26c-4686-82a4-8ee39fd27c6d",
   "metadata": {},
   "outputs": [],
   "source": [
    "if 'cr_df' not in locals() or 'cr_df' not in globals():\n",
    "    query = \"SELECT * FROM critic_ratings\"\n",
    "    cr_df = pd.read_sql_query(query, engine, index_col='Movie_ID')\n",
    "    cr_df.head(5)"
   ]
  },
  {
   "cell_type": "markdown",
   "id": "87a4b54b-d851-4684-8281-535ba643a0c4",
   "metadata": {},
   "source": [
    "##### Print the records that lack Rotten Tomatoes scores"
   ]
  },
  {
   "cell_type": "code",
   "execution_count": 20,
   "id": "205c2e8d-f461-489b-af7e-72ff9dacea7a",
   "metadata": {},
   "outputs": [
    {
     "data": {
      "text/html": [
       "<div>\n",
       "<style scoped>\n",
       "    .dataframe tbody tr th:only-of-type {\n",
       "        vertical-align: middle;\n",
       "    }\n",
       "\n",
       "    .dataframe tbody tr th {\n",
       "        vertical-align: top;\n",
       "    }\n",
       "\n",
       "    .dataframe thead th {\n",
       "        text-align: right;\n",
       "    }\n",
       "</style>\n",
       "<table border=\"1\" class=\"dataframe\">\n",
       "  <thead>\n",
       "    <tr style=\"text-align: right;\">\n",
       "      <th></th>\n",
       "      <th>Title</th>\n",
       "      <th>Year</th>\n",
       "      <th>IMDB_Score</th>\n",
       "      <th>RT_Score</th>\n",
       "      <th>MetaC_Score</th>\n",
       "    </tr>\n",
       "    <tr>\n",
       "      <th>Movie_ID</th>\n",
       "      <th></th>\n",
       "      <th></th>\n",
       "      <th></th>\n",
       "      <th></th>\n",
       "      <th></th>\n",
       "    </tr>\n",
       "  </thead>\n",
       "  <tbody>\n",
       "    <tr>\n",
       "      <th>186</th>\n",
       "      <td>Striking Rescue</td>\n",
       "      <td>2024</td>\n",
       "      <td>NaN</td>\n",
       "      <td>NaN</td>\n",
       "      <td>NaN</td>\n",
       "    </tr>\n",
       "  </tbody>\n",
       "</table>\n",
       "</div>"
      ],
      "text/plain": [
       "                    Title  Year  IMDB_Score  RT_Score  MetaC_Score\n",
       "Movie_ID                                                          \n",
       "186       Striking Rescue  2024         NaN       NaN          NaN"
      ]
     },
     "execution_count": 20,
     "metadata": {},
     "output_type": "execute_result"
    }
   ],
   "source": [
    "# Printing the records with missing 'IMDB_Score'\n",
    "missing_imdb_mask = cr_df['IMDB_Score'].isnull()\n",
    "cr_df[missing_imdb_mask]"
   ]
  },
  {
   "cell_type": "markdown",
   "id": "747e4892-99d7-46ec-8ebc-317a56a54a6a",
   "metadata": {},
   "source": [
    "##### Applying mapping to the missing reviews"
   ]
  },
  {
   "cell_type": "code",
   "execution_count": 21,
   "id": "8ea2445b-7ef8-4ac2-bb7b-133523de84f1",
   "metadata": {},
   "outputs": [
    {
     "data": {
      "text/html": [
       "<div>\n",
       "<style scoped>\n",
       "    .dataframe tbody tr th:only-of-type {\n",
       "        vertical-align: middle;\n",
       "    }\n",
       "\n",
       "    .dataframe tbody tr th {\n",
       "        vertical-align: top;\n",
       "    }\n",
       "\n",
       "    .dataframe thead th {\n",
       "        text-align: right;\n",
       "    }\n",
       "</style>\n",
       "<table border=\"1\" class=\"dataframe\">\n",
       "  <thead>\n",
       "    <tr style=\"text-align: right;\">\n",
       "      <th></th>\n",
       "      <th>Title</th>\n",
       "      <th>Year</th>\n",
       "      <th>IMDB_Score</th>\n",
       "      <th>RT_Score</th>\n",
       "      <th>MetaC_Score</th>\n",
       "    </tr>\n",
       "    <tr>\n",
       "      <th>Movie_ID</th>\n",
       "      <th></th>\n",
       "      <th></th>\n",
       "      <th></th>\n",
       "      <th></th>\n",
       "      <th></th>\n",
       "    </tr>\n",
       "  </thead>\n",
       "  <tbody>\n",
       "    <tr>\n",
       "      <th>186</th>\n",
       "      <td>Striking Rescue</td>\n",
       "      <td>2024</td>\n",
       "      <td>NaN</td>\n",
       "      <td>NaN</td>\n",
       "      <td>NaN</td>\n",
       "    </tr>\n",
       "  </tbody>\n",
       "</table>\n",
       "</div>"
      ],
      "text/plain": [
       "                    Title  Year  IMDB_Score  RT_Score  MetaC_Score\n",
       "Movie_ID                                                          \n",
       "186       Striking Rescue  2024         NaN       NaN          NaN"
      ]
     },
     "execution_count": 21,
     "metadata": {},
     "output_type": "execute_result"
    }
   ],
   "source": [
    "cr_df['IMDB_Score'] = cr_df['IMDB_Score'].fillna(cr_df['Title'].map(imdb_mapping))\n",
    "cr_df[missing_imdb_mask]"
   ]
  },
  {
   "cell_type": "markdown",
   "id": "4d7dfe2f-9e61-4c6a-8188-cedd0c105012",
   "metadata": {},
   "source": [
    "##### Loading this amended table to the MySQL db, replacing the preexisting one."
   ]
  },
  {
   "cell_type": "code",
   "execution_count": 22,
   "id": "495bd5b2-cbfe-41bd-a343-6bc9978e63d3",
   "metadata": {
    "scrolled": true
   },
   "outputs": [
    {
     "data": {
      "text/plain": [
       "289"
      ]
     },
     "execution_count": 22,
     "metadata": {},
     "output_type": "execute_result"
    }
   ],
   "source": [
    "cr_df.to_sql('critic_ratings', engine, if_exists='replace', index=True)"
   ]
  },
  {
   "cell_type": "markdown",
   "id": "44e51a39-3ed3-460a-b469-d65b4ed80ffd",
   "metadata": {},
   "source": [
    "## Add New Reviewer"
   ]
  },
  {
   "cell_type": "markdown",
   "id": "55d405ff-7e19-432f-b6ac-5818813ea695",
   "metadata": {},
   "source": [
    "### RogerEbert.com"
   ]
  },
  {
   "cell_type": "markdown",
   "id": "2187f8ef-5bda-458d-9a8a-db50fb3f3020",
   "metadata": {},
   "source": [
    "Contained in the file 'ebert_ratings.csv' are ratings from RogerEbert.com , one of my favorite sites for movie reviews. To a point, I retrieved these ratings using my web scrapers from this project's package **critic_ratings.ebertscrape**. However, after scraping 40 reviews, my main scraper gets foiled by Google's  anti-scrape mechanisms (a captCha check, in this case.) So the remaining ~150 Ebert ratings in this file were entered by me, manually. \n",
    "\n",
    "I here read that csv file of Ebert ratings into a dataframe, then join that onto the _critic_ratings_ table. With this result, I again overwrite the _critic_ratings_ table in the MySQL db, to finish.\n",
    "\n",
    "\n",
    "#### Read in the two datasets\n",
    "\n",
    "##### The _RogerEbert.com_ ratings, from file"
   ]
  },
  {
   "cell_type": "code",
   "execution_count": 23,
   "id": "602c259a-bea1-4394-ae9e-430c3ee665ea",
   "metadata": {
    "scrolled": true
   },
   "outputs": [
    {
     "data": {
      "text/html": [
       "<div>\n",
       "<style scoped>\n",
       "    .dataframe tbody tr th:only-of-type {\n",
       "        vertical-align: middle;\n",
       "    }\n",
       "\n",
       "    .dataframe tbody tr th {\n",
       "        vertical-align: top;\n",
       "    }\n",
       "\n",
       "    .dataframe thead th {\n",
       "        text-align: right;\n",
       "    }\n",
       "</style>\n",
       "<table border=\"1\" class=\"dataframe\">\n",
       "  <thead>\n",
       "    <tr style=\"text-align: right;\">\n",
       "      <th></th>\n",
       "      <th>Title</th>\n",
       "      <th>Year</th>\n",
       "      <th>Ebert_Score</th>\n",
       "    </tr>\n",
       "    <tr>\n",
       "      <th>Movie_ID</th>\n",
       "      <th></th>\n",
       "      <th></th>\n",
       "      <th></th>\n",
       "    </tr>\n",
       "  </thead>\n",
       "  <tbody>\n",
       "    <tr>\n",
       "      <th>1</th>\n",
       "      <td>Sing Sing</td>\n",
       "      <td>2023</td>\n",
       "      <td>4.0</td>\n",
       "    </tr>\n",
       "    <tr>\n",
       "      <th>2</th>\n",
       "      <td>Y Tu Mama Tambien</td>\n",
       "      <td>2001</td>\n",
       "      <td>4.0</td>\n",
       "    </tr>\n",
       "    <tr>\n",
       "      <th>3</th>\n",
       "      <td>Gasoline Rainbow</td>\n",
       "      <td>2023</td>\n",
       "      <td>4.0</td>\n",
       "    </tr>\n",
       "    <tr>\n",
       "      <th>4</th>\n",
       "      <td>Evil Does Not Exist</td>\n",
       "      <td>2023</td>\n",
       "      <td>3.5</td>\n",
       "    </tr>\n",
       "    <tr>\n",
       "      <th>5</th>\n",
       "      <td>Slow</td>\n",
       "      <td>2023</td>\n",
       "      <td>3.5</td>\n",
       "    </tr>\n",
       "  </tbody>\n",
       "</table>\n",
       "</div>"
      ],
      "text/plain": [
       "                        Title  Year  Ebert_Score\n",
       "Movie_ID                                        \n",
       "1                   Sing Sing  2023          4.0\n",
       "2           Y Tu Mama Tambien  2001          4.0\n",
       "3            Gasoline Rainbow  2023          4.0\n",
       "4         Evil Does Not Exist  2023          3.5\n",
       "5                        Slow  2023          3.5"
      ]
     },
     "execution_count": 23,
     "metadata": {},
     "output_type": "execute_result"
    }
   ],
   "source": [
    "ebert_df = pd.read_csv('../data/csv/ebert/ratings_manually_gathered/ebert_ratings.csv', index_col='Movie_ID')\n",
    "ebert_df['Year'] = ebert_df['Year'].astype(str)\n",
    "ebert_df.head(5)"
   ]
  },
  {
   "cell_type": "markdown",
   "id": "a10d09a4-403b-4b05-88b6-7be17faabca7",
   "metadata": {},
   "source": [
    "##### The _critic_ratings_ table, from MySQL \n",
    "\n",
    "(This segment is only run if that table hasn't already been imported, like in cases where the _Missing Review Scores_ sections were not run prior.)"
   ]
  },
  {
   "cell_type": "code",
   "execution_count": 24,
   "id": "88447b45-60c0-41c1-bbaf-495d19b15cc6",
   "metadata": {},
   "outputs": [],
   "source": [
    "if 'cr_df' not in locals() or 'cr_df' not in globals():\n",
    "    query = \"SELECT * FROM critic_ratings\"\n",
    "    cr_df = pd.read_sql_query(query, engine, index_col='Movie_ID')\n",
    "    cr_df.head(5)"
   ]
  },
  {
   "cell_type": "markdown",
   "id": "b5e29243-d57d-4360-a989-e785dea9a3bd",
   "metadata": {},
   "source": [
    "#### Merge the two and load the result"
   ]
  },
  {
   "cell_type": "code",
   "execution_count": 25,
   "id": "1d0e0979-1f89-412e-ae1e-80ef02423f43",
   "metadata": {},
   "outputs": [
    {
     "data": {
      "text/html": [
       "<div>\n",
       "<style scoped>\n",
       "    .dataframe tbody tr th:only-of-type {\n",
       "        vertical-align: middle;\n",
       "    }\n",
       "\n",
       "    .dataframe tbody tr th {\n",
       "        vertical-align: top;\n",
       "    }\n",
       "\n",
       "    .dataframe thead th {\n",
       "        text-align: right;\n",
       "    }\n",
       "</style>\n",
       "<table border=\"1\" class=\"dataframe\">\n",
       "  <thead>\n",
       "    <tr style=\"text-align: right;\">\n",
       "      <th></th>\n",
       "      <th>Title</th>\n",
       "      <th>Year</th>\n",
       "      <th>IMDB_Score</th>\n",
       "      <th>RT_Score</th>\n",
       "      <th>MetaC_Score</th>\n",
       "      <th>Ebert_Score</th>\n",
       "    </tr>\n",
       "    <tr>\n",
       "      <th>Movie_ID</th>\n",
       "      <th></th>\n",
       "      <th></th>\n",
       "      <th></th>\n",
       "      <th></th>\n",
       "      <th></th>\n",
       "      <th></th>\n",
       "    </tr>\n",
       "  </thead>\n",
       "  <tbody>\n",
       "    <tr>\n",
       "      <th>1</th>\n",
       "      <td>Nickel Boys</td>\n",
       "      <td>2024</td>\n",
       "      <td>0.76</td>\n",
       "      <td>0.90</td>\n",
       "      <td>0.91</td>\n",
       "      <td>4.0</td>\n",
       "    </tr>\n",
       "    <tr>\n",
       "      <th>2</th>\n",
       "      <td>The Brutalist</td>\n",
       "      <td>2024</td>\n",
       "      <td>0.81</td>\n",
       "      <td>0.93</td>\n",
       "      <td>0.91</td>\n",
       "      <td>4.0</td>\n",
       "    </tr>\n",
       "    <tr>\n",
       "      <th>3</th>\n",
       "      <td>Hard Truths</td>\n",
       "      <td>2024</td>\n",
       "      <td>0.74</td>\n",
       "      <td>0.94</td>\n",
       "      <td>0.88</td>\n",
       "      <td>4.0</td>\n",
       "    </tr>\n",
       "    <tr>\n",
       "      <th>4</th>\n",
       "      <td>Vermiglio</td>\n",
       "      <td>2024</td>\n",
       "      <td>0.72</td>\n",
       "      <td>0.94</td>\n",
       "      <td>0.80</td>\n",
       "      <td>3.5</td>\n",
       "    </tr>\n",
       "    <tr>\n",
       "      <th>5</th>\n",
       "      <td>Wallace &amp; Gromit: Vengeance Most Fowl</td>\n",
       "      <td>2024</td>\n",
       "      <td>0.79</td>\n",
       "      <td>1.00</td>\n",
       "      <td>0.82</td>\n",
       "      <td>3.5</td>\n",
       "    </tr>\n",
       "  </tbody>\n",
       "</table>\n",
       "</div>"
      ],
      "text/plain": [
       "                                          Title  Year  IMDB_Score  RT_Score  \\\n",
       "Movie_ID                                                                      \n",
       "1                                   Nickel Boys  2024        0.76      0.90   \n",
       "2                                 The Brutalist  2024        0.81      0.93   \n",
       "3                                   Hard Truths  2024        0.74      0.94   \n",
       "4                                     Vermiglio  2024        0.72      0.94   \n",
       "5         Wallace & Gromit: Vengeance Most Fowl  2024        0.79      1.00   \n",
       "\n",
       "          MetaC_Score  Ebert_Score  \n",
       "Movie_ID                            \n",
       "1                0.91          4.0  \n",
       "2                0.91          4.0  \n",
       "3                0.88          4.0  \n",
       "4                0.80          3.5  \n",
       "5                0.82          3.5  "
      ]
     },
     "execution_count": 25,
     "metadata": {},
     "output_type": "execute_result"
    }
   ],
   "source": [
    "merged_df = cr_df.merge(ebert_df, how='left', on=['Title','Year'])\n",
    "merged_df.index = range(1, len(merged_df)+1)\n",
    "merged_df.index.names = ['Movie_ID']\n",
    "\n",
    "cr_plus_ebert_df = merged_df\n",
    "cr_plus_ebert_df.head(5)"
   ]
  },
  {
   "cell_type": "markdown",
   "id": "e221db9d-b425-4f85-8dbf-a6610146401a",
   "metadata": {},
   "source": [
    "##### Loading this amended table to the MySQL db, replacing the preexisting one."
   ]
  },
  {
   "cell_type": "code",
   "execution_count": 26,
   "id": "c0c003f8-128b-4292-bd48-d74426a2bf3d",
   "metadata": {
    "scrolled": true
   },
   "outputs": [
    {
     "data": {
      "text/plain": [
       "289"
      ]
     },
     "execution_count": 26,
     "metadata": {},
     "output_type": "execute_result"
    }
   ],
   "source": [
    "cr_plus_ebert_df.to_sql('critic_ratings', engine, if_exists='replace', index=True)"
   ]
  },
  {
   "cell_type": "markdown",
   "id": "32844e24-d513-4259-85ca-56c2ad75a44b",
   "metadata": {},
   "source": [
    "## Shutting down the SQL engine and db connection."
   ]
  },
  {
   "cell_type": "code",
   "execution_count": 27,
   "id": "b4634419-fe22-4857-970d-6fc82a4ec5e1",
   "metadata": {},
   "outputs": [],
   "source": [
    "engine.dispose()\n",
    "conn.close()"
   ]
  }
 ],
 "metadata": {
  "kernelspec": {
   "display_name": "Python 3 (ipykernel)",
   "language": "python",
   "name": "python3"
  },
  "language_info": {
   "codemirror_mode": {
    "name": "ipython",
    "version": 3
   },
   "file_extension": ".py",
   "mimetype": "text/x-python",
   "name": "python",
   "nbconvert_exporter": "python",
   "pygments_lexer": "ipython3",
   "version": "3.12.3"
  }
 },
 "nbformat": 4,
 "nbformat_minor": 5
}
